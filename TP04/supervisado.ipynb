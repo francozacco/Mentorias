{
 "cells": [
  {
   "cell_type": "markdown",
   "metadata": {},
   "source": [
    "# <p style=\"text-align:center;\">Supervisado</p>"
   ]
  },
  {
   "cell_type": "markdown",
   "metadata": {},
   "source": [
    "**Todo ejercicio debe tener un análisis fundamentado en la teoría vista en la materia, dicho análisis sera parte del informe a entregar en pdf**\n",
    "\n",
    "<span style=\"color:blue\">*Se recomienda hacer uso de las herramientas vistas en los demos de la materia.*</span>"
   ]
  },
  {
   "cell_type": "markdown",
   "metadata": {},
   "source": [
    "**Objetivos:** \n",
    "- Implementar los modelos random forest y redes neuronales para clasificar las galaxias en tipo Elípticas y Espirales e Irregulares\n",
    "- Comparar la performance obtenida con los modelos vistos en el anterior práctico y los nuevos modelos de este práctico."
   ]
  },
  {
   "cell_type": "markdown",
   "metadata": {},
   "source": [
    "# Paquetes necesarios "
   ]
  },
  {
   "cell_type": "code",
   "execution_count": 1,
   "metadata": {},
   "outputs": [],
   "source": [
    "import numpy as np\n",
    "import seaborn as sns\n",
    "import matplotlib.pyplot as plt\n",
    "import pandas as pd"
   ]
  },
  {
   "cell_type": "code",
   "execution_count": 2,
   "metadata": {},
   "outputs": [],
   "source": [
    "%matplotlib inline"
   ]
  },
  {
   "cell_type": "code",
   "execution_count": 3,
   "metadata": {},
   "outputs": [],
   "source": [
    "plt.rcParams[\"figure.figsize\"] = (10,6)"
   ]
  },
  {
   "cell_type": "markdown",
   "metadata": {},
   "source": [
    "# Data set\n",
    "\n",
    "Se continua con el dataset previamente curado y usado en el anterior práctico. \n",
    "Las variables físicas que caracterizan a las galaxias son:\n",
    "- **distancia_L**: Es la distancia a la galaxia, su calculo hace uso del brillo de la galaxia\n",
    "- **Mag_abs**: Es el brillo que tendría la galaxia a una distancia fija (10 Mpc)\n",
    "- **objID**: Es el id de las galaxias\n",
    "- **rac y dec** = Posición angular, rac de 0 a 360 y dec de -90 a 90\n",
    "- **modelMag_u,modelMag_g, modelMag_r,modelMag_i,modelMag_z**= Estas variables representan una fracción de la luz total que observamos de las galaxias según su frecuencia (como por ejemplo, la frecuencia de radio, para más información [wiki](https://es.wikipedia.org/wiki/Espectro_visible))\n",
    "- **petroR90_r** = Es una medida del tamaño de la galaxia\n",
    "- **color**= Como su nombre lo indica es el color más predominante en la galaxia\n",
    "- **elíptica, espiral, irregular**= Estas columnas identifican el tipo de morfología de las galaxias. Si el valor de una de estas tres columnas es 1, entonces la galaxia tiene esa morfología y las dos restantes tendrán el valor 0. \n"
   ]
  },
  {
   "cell_type": "code",
   "execution_count": 4,
   "metadata": {},
   "outputs": [
    {
     "data": {
      "text/html": [
       "<div>\n",
       "<style scoped>\n",
       "    .dataframe tbody tr th:only-of-type {\n",
       "        vertical-align: middle;\n",
       "    }\n",
       "\n",
       "    .dataframe tbody tr th {\n",
       "        vertical-align: top;\n",
       "    }\n",
       "\n",
       "    .dataframe thead th {\n",
       "        text-align: right;\n",
       "    }\n",
       "</style>\n",
       "<table border=\"1\" class=\"dataframe\">\n",
       "  <thead>\n",
       "    <tr style=\"text-align: right;\">\n",
       "      <th></th>\n",
       "      <th>objID</th>\n",
       "      <th>ra</th>\n",
       "      <th>dec</th>\n",
       "      <th>modelMag_u</th>\n",
       "      <th>modelMag_g</th>\n",
       "      <th>modelMag_r</th>\n",
       "      <th>modelMag_i</th>\n",
       "      <th>modelMag_z</th>\n",
       "      <th>petroR90_r</th>\n",
       "      <th>Color</th>\n",
       "      <th>elliptical</th>\n",
       "      <th>spiral</th>\n",
       "      <th>uncertain</th>\n",
       "      <th>distancia_L</th>\n",
       "      <th>Mag_abs</th>\n",
       "    </tr>\n",
       "  </thead>\n",
       "  <tbody>\n",
       "    <tr>\n",
       "      <th>0</th>\n",
       "      <td>1.237674e+18</td>\n",
       "      <td>119.822479</td>\n",
       "      <td>42.008528</td>\n",
       "      <td>17.36539</td>\n",
       "      <td>15.46586</td>\n",
       "      <td>14.54658</td>\n",
       "      <td>14.07490</td>\n",
       "      <td>13.69937</td>\n",
       "      <td>18.121160</td>\n",
       "      <td>-2.818807</td>\n",
       "      <td>1.0</td>\n",
       "      <td>0.0</td>\n",
       "      <td>0.0</td>\n",
       "      <td>135.131916</td>\n",
       "      <td>-21.191136</td>\n",
       "    </tr>\n",
       "    <tr>\n",
       "      <th>1</th>\n",
       "      <td>1.237674e+18</td>\n",
       "      <td>118.185239</td>\n",
       "      <td>33.699089</td>\n",
       "      <td>19.95136</td>\n",
       "      <td>18.35397</td>\n",
       "      <td>17.54043</td>\n",
       "      <td>17.05026</td>\n",
       "      <td>16.71222</td>\n",
       "      <td>3.657189</td>\n",
       "      <td>-2.410933</td>\n",
       "      <td>0.0</td>\n",
       "      <td>0.0</td>\n",
       "      <td>1.0</td>\n",
       "      <td>153.893111</td>\n",
       "      <td>-18.473102</td>\n",
       "    </tr>\n",
       "  </tbody>\n",
       "</table>\n",
       "</div>"
      ],
      "text/plain": [
       "          objID          ra        dec  modelMag_u  modelMag_g  modelMag_r  \\\n",
       "0  1.237674e+18  119.822479  42.008528    17.36539    15.46586    14.54658   \n",
       "1  1.237674e+18  118.185239  33.699089    19.95136    18.35397    17.54043   \n",
       "\n",
       "   modelMag_i  modelMag_z  petroR90_r     Color  elliptical  spiral  \\\n",
       "0    14.07490    13.69937   18.121160 -2.818807         1.0     0.0   \n",
       "1    17.05026    16.71222    3.657189 -2.410933         0.0     0.0   \n",
       "\n",
       "   uncertain  distancia_L    Mag_abs  \n",
       "0        0.0   135.131916 -21.191136  \n",
       "1        1.0   153.893111 -18.473102  "
      ]
     },
     "metadata": {},
     "output_type": "display_data"
    },
    {
     "data": {
      "text/plain": [
       "(32623, 15)"
      ]
     },
     "metadata": {},
     "output_type": "display_data"
    }
   ],
   "source": [
    "dataset=pd.read_csv('galaxias_2.csv')\n",
    "display(dataset.head(2))\n",
    "display(dataset.shape)"
   ]
  },
  {
   "cell_type": "code",
   "execution_count": 5,
   "metadata": {},
   "outputs": [
    {
     "data": {
      "image/png": "[encoded data removed]",
      "text/plain": [
       "<Figure size 720x432 with 16 Axes>"
      ]
     },
     "metadata": {
      "needs_background": "light"
     },
     "output_type": "display_data"
    }
   ],
   "source": [
    "dataset.hist()\n",
    "plt.tight_layout()"
   ]
  },
  {
   "cell_type": "code",
   "execution_count": 6,
   "metadata": {},
   "outputs": [],
   "source": [
    "data_cl = dataset.loc[~(dataset.index.astype(str).duplicated(keep=\"first\"))]\n",
    "data_cl.drop(\"objID\",axis=1, inplace=True)"
   ]
  },
  {
   "cell_type": "markdown",
   "metadata": {},
   "source": [
    "# Target"
   ]
  },
  {
   "cell_type": "markdown",
   "metadata": {},
   "source": [
    "Usen como Target la clase de tipo morfológico de las galaxias."
   ]
  },
  {
   "cell_type": "code",
   "execution_count": 9,
   "metadata": {},
   "outputs": [],
   "source": [
    "data_cl[\"Type\"] = (data_cl[\"spiral\"] * 0 + data_cl[\"elliptical\"] * 1 +\\\n",
    "                  data_cl[\"uncertain\"] * 2).map({0: \"S\", 1: \"E\", 2: \"U\"})\n",
    "#data_cl[\"Type\"] = data_cl[\"Type\"].map({0: \"S\", 1: \"E\", 2: \"U\"})"
   ]
  },
  {
   "cell_type": "code",
   "execution_count": 10,
   "metadata": {},
   "outputs": [
    {
     "data": {
      "text/plain": [
       "<matplotlib.axes._subplots.AxesSubplot at 0x7f4f8fee6da0>"
      ]
     },
     "execution_count": 10,
     "metadata": {},
     "output_type": "execute_result"
    },
    {
     "data": {
      "image/png": "[encoded data removed]",
      "text/plain": [
       "<Figure size 720x432 with 1 Axes>"
      ]
     },
     "metadata": {
      "needs_background": "light"
     },
     "output_type": "display_data"
    }
   ],
   "source": [
    "sns.countplot(data_cl[\"Type\"])"
   ]
  },
  {
   "cell_type": "code",
   "execution_count": 11,
   "metadata": {},
   "outputs": [],
   "source": [
    "def print_classification_report(y_real, y_pred):\n",
    "    print(f\"Accuracy {accuracy_score(y_real, y_pred)}\")\n",
    "    print(\"-\"*100)\n",
    "    print(classification_report(y_real, y_pred))\n",
    "    plt.figure()\n",
    "    sns.heatmap(confusion_matrix(y_real, y_pred), \n",
    "                #xticklabels=x_ticks, #[0, 1],\n",
    "                #yticklabels=x_ticks, #[0, 1],\n",
    "                cmap=\"jet\",\n",
    "                annot=True,\n",
    "               )\n",
    "    plt.xlabel(\"Predicted Class\")\n",
    "    plt.ylabel(\"Real Class\")\n",
    "    plt.show()"
   ]
  },
  {
   "cell_type": "markdown",
   "metadata": {},
   "source": [
    "# División en entrenamiento y evaluación\n",
    "   - Realizar la respectiva división conjunto de *train* y *test*."
   ]
  },
  {
   "cell_type": "code",
   "execution_count": 12,
   "metadata": {},
   "outputs": [],
   "source": [
    "from sklearn.model_selection import train_test_split"
   ]
  },
  {
   "cell_type": "code",
   "execution_count": 13,
   "metadata": {},
   "outputs": [
    {
     "data": {
      "text/plain": [
       "Index(['ra', 'dec', 'modelMag_u', 'modelMag_g', 'modelMag_r', 'modelMag_i',\n",
       "       'modelMag_z', 'petroR90_r', 'Color', 'elliptical', 'spiral',\n",
       "       'uncertain', 'distancia_L', 'Mag_abs', 'Type'],\n",
       "      dtype='object')"
      ]
     },
     "execution_count": 13,
     "metadata": {},
     "output_type": "execute_result"
    }
   ],
   "source": [
    "data_cl.columns"
   ]
  },
  {
   "cell_type": "code",
   "execution_count": 14,
   "metadata": {},
   "outputs": [],
   "source": [
    "X = data_cl.drop([\"Type\", \"uncertain\", \"spiral\", \"elliptical\"], axis=1)\n",
    "y = data_cl[\"Type\"]\n",
    "X_train, X_test, y_train, y_test = train_test_split(X, y, test_size=0.2, random_state=42)\n",
    "\n",
    "feature3 = [\"petroR90_r\",\"Color\",\"Mag_abs\"]\n",
    "X_train_3ft, X_test_3ft, = X_train[feature3] , X_test[feature3]"
   ]
  },
  {
   "cell_type": "code",
   "execution_count": 15,
   "metadata": {},
   "outputs": [
    {
     "data": {
      "text/plain": [
       "<matplotlib.axes._subplots.AxesSubplot at 0x7f4f90383240>"
      ]
     },
     "execution_count": 15,
     "metadata": {},
     "output_type": "execute_result"
    },
    {
     "data": {
      "image/png": "[encoded data removed]",
      "text/plain": [
       "<Figure size 720x432 with 2 Axes>"
      ]
     },
     "metadata": {
      "needs_background": "light"
     },
     "output_type": "display_data"
    }
   ],
   "source": [
    "f, axs = plt.subplots(1,2)\n",
    "sns.countplot(y_train, order=[\"U\",\"S\",\"E\"], ax=axs[0])\n",
    "sns.countplot(y_test, order=[\"U\",\"S\",\"E\"], ax=axs[1])"
   ]
  },
  {
   "cell_type": "markdown",
   "metadata": {},
   "source": [
    "# Radom Forest"
   ]
  },
  {
   "cell_type": "markdown",
   "metadata": {},
   "source": [
    "- Entrenar el modelo Random Forest, variando los parámetros del mismo, para cada modelo:\n",
    "    - Imprimir el *out-of-bag score* cuando se usan todos los features del dataset \n",
    "    - Imprimir el *out-of-bag score* usando como atributos petroR90_r, Color y Mag_abs\n",
    "    - Que pueden decir de las puntuaciones obtenidas.\n",
    "    - Elijan la métrica que crean más propiedad para este problema y compare con los modelos vistos en el anterior práctico."
   ]
  },
  {
   "cell_type": "code",
   "execution_count": 16,
   "metadata": {},
   "outputs": [],
   "source": [
    "from sklearn.ensemble import RandomForestClassifier\n",
    "from sklearn.metrics import accuracy_score, confusion_matrix, classification_report"
   ]
  },
  {
   "cell_type": "code",
   "execution_count": 17,
   "metadata": {},
   "outputs": [],
   "source": [
    "rf_clf = RandomForestClassifier(oob_score=True, random_state=421)"
   ]
  },
  {
   "cell_type": "markdown",
   "metadata": {},
   "source": [
    "## Parametros por defecto"
   ]
  },
  {
   "cell_type": "code",
   "execution_count": 18,
   "metadata": {
    "scrolled": false
   },
   "outputs": [
    {
     "name": "stderr",
     "output_type": "stream",
     "text": [
      "/home/franco/anaconda3/lib/python3.7/site-packages/sklearn/ensemble/forest.py:245: FutureWarning: The default value of n_estimators will change from 10 in version 0.20 to 100 in 0.22.\n",
      "  \"10 in version 0.20 to 100 in 0.22.\", FutureWarning)\n",
      "/home/franco/anaconda3/lib/python3.7/site-packages/sklearn/ensemble/forest.py:460: UserWarning: Some inputs do not have OOB scores. This probably means too few trees were used to compute any reliable oob estimates.\n",
      "  warn(\"Some inputs do not have OOB scores. \"\n",
      "/home/franco/anaconda3/lib/python3.7/site-packages/sklearn/ensemble/forest.py:465: RuntimeWarning: divide by zero encountered in true_divide\n",
      "  predictions[k].sum(axis=1)[:, np.newaxis])\n",
      "/home/franco/anaconda3/lib/python3.7/site-packages/sklearn/ensemble/forest.py:465: RuntimeWarning: invalid value encountered in true_divide\n",
      "  predictions[k].sum(axis=1)[:, np.newaxis])\n"
     ]
    },
    {
     "name": "stdout",
     "output_type": "stream",
     "text": [
      "Train\n",
      "--------------------------------------------------------------------------------\n",
      "Accuracy 0.9886198176105448\n",
      "----------------------------------------------------------------------------------------------------\n",
      "              precision    recall  f1-score   support\n",
      "\n",
      "           E       0.98      0.98      0.98      2991\n",
      "           S       0.99      0.99      0.99      7659\n",
      "           U       0.99      0.99      0.99     15448\n",
      "\n",
      "    accuracy                           0.99     26098\n",
      "   macro avg       0.99      0.99      0.99     26098\n",
      "weighted avg       0.99      0.99      0.99     26098\n",
      "\n"
     ]
    },
    {
     "data": {
      "image/png": "[encoded data removed]",
      "text/plain": [
       "<Figure size 720x432 with 2 Axes>"
      ]
     },
     "metadata": {
      "needs_background": "light"
     },
     "output_type": "display_data"
    },
    {
     "name": "stdout",
     "output_type": "stream",
     "text": [
      "--------------------------------------------------------------------------------\n",
      "Test\n",
      "--------------------------------------------------------------------------------\n",
      "Accuracy 0.7175478927203065\n",
      "----------------------------------------------------------------------------------------------------\n",
      "              precision    recall  f1-score   support\n",
      "\n",
      "           E       0.54      0.51      0.52       738\n",
      "           S       0.67      0.65      0.66      1949\n",
      "           U       0.77      0.79      0.78      3838\n",
      "\n",
      "    accuracy                           0.72      6525\n",
      "   macro avg       0.66      0.65      0.66      6525\n",
      "weighted avg       0.71      0.72      0.72      6525\n",
      "\n"
     ]
    },
    {
     "data": {
      "image/png": "[encoded data removed]",
      "text/plain": [
       "<Figure size 720x432 with 2 Axes>"
      ]
     },
     "metadata": {
      "needs_background": "light"
     },
     "output_type": "display_data"
    }
   ],
   "source": [
    "rf_clf.fit(X_train, y_train)\n",
    "y_pred_train = rf_clf.predict(X_train)\n",
    "y_pred_test  = rf_clf.predict(X_test)\n",
    "print(\"Train\")\n",
    "print(\"-\"*80)\n",
    "print_classification_report(y_train, y_pred_train)\n",
    "print(\"-\"*80)\n",
    "print(\"Test\")\n",
    "print(\"-\"*80)\n",
    "print_classification_report(y_test, y_pred_test)"
   ]
  },
  {
   "cell_type": "markdown",
   "metadata": {},
   "source": [
    "De estos resultados es evidente que el modelo esta overfiteando los datos de entrenamiento. Vemos que pasa con el OOB Score"
   ]
  },
  {
   "cell_type": "code",
   "execution_count": 19,
   "metadata": {},
   "outputs": [
    {
     "data": {
      "text/plain": [
       "0.6768334738294122"
      ]
     },
     "execution_count": 19,
     "metadata": {},
     "output_type": "execute_result"
    }
   ],
   "source": [
    "rf_clf.oob_score_"
   ]
  },
  {
   "cell_type": "markdown",
   "metadata": {},
   "source": [
    "## Ajuste de Hiper Parametros"
   ]
  },
  {
   "cell_type": "markdown",
   "metadata": {},
   "source": [
    "### Todos los Features"
   ]
  },
  {
   "cell_type": "code",
   "execution_count": 20,
   "metadata": {},
   "outputs": [],
   "source": [
    "from sklearn.model_selection import GridSearchCV"
   ]
  },
  {
   "cell_type": "code",
   "execution_count": 21,
   "metadata": {},
   "outputs": [],
   "source": [
    "param_grid = [\n",
    "    #{\"n_estimators\": [10, 50, 80, 100], \"max_features\": [2, 4, 6, 8, 10, 12],\n",
    "    #\"criterion\": [\"gini\", \"entropy\"], \"min_samples_split\": [2,3,4,5]}\n",
    "    {\"n_estimators\": [90, 100], \"max_features\": [4,5,7],\n",
    "    \"min_samples_leaf\": [3,4,5]}\n",
    "]\n",
    "\n",
    "rf_clf = RandomForestClassifier(oob_score=True, random_state=421,)\n",
    "grid_search = GridSearchCV(rf_clf, param_grid, cv=3, scoring=\"accuracy\", n_jobs=6, verbose=3)"
   ]
  },
  {
   "cell_type": "code",
   "execution_count": 22,
   "metadata": {},
   "outputs": [
    {
     "name": "stdout",
     "output_type": "stream",
     "text": [
      "Fitting 3 folds for each of 18 candidates, totalling 54 fits\n"
     ]
    },
    {
     "name": "stderr",
     "output_type": "stream",
     "text": [
      "[Parallel(n_jobs=6)]: Using backend LokyBackend with 6 concurrent workers.\n",
      "[Parallel(n_jobs=6)]: Done  20 tasks      | elapsed:   57.9s\n",
      "[Parallel(n_jobs=6)]: Done  54 out of  54 | elapsed:  3.1min finished\n"
     ]
    },
    {
     "name": "stdout",
     "output_type": "stream",
     "text": [
      "0.7322 (+/-0.0059) para {'max_features': 5, 'min_samples_leaf': 3, 'n_estimators': 90}\n",
      "0.7319 (+/-0.0049) para {'max_features': 5, 'min_samples_leaf': 3, 'n_estimators': 100}\n",
      "0.7317 (+/-0.0082) para {'max_features': 4, 'min_samples_leaf': 3, 'n_estimators': 90}\n",
      "0.7308 (+/-0.0051) para {'max_features': 4, 'min_samples_leaf': 3, 'n_estimators': 100}\n",
      "0.7305 (+/-0.0083) para {'max_features': 7, 'min_samples_leaf': 3, 'n_estimators': 100}\n",
      "0.7298 (+/-0.0084) para {'max_features': 4, 'min_samples_leaf': 5, 'n_estimators': 100}\n",
      "0.7296 (+/-0.0043) para {'max_features': 5, 'min_samples_leaf': 4, 'n_estimators': 100}\n",
      "0.7296 (+/-0.0092) para {'max_features': 7, 'min_samples_leaf': 3, 'n_estimators': 90}\n",
      "0.7292 (+/-0.0082) para {'max_features': 4, 'min_samples_leaf': 4, 'n_estimators': 90}\n",
      "0.7291 (+/-0.0066) para {'max_features': 4, 'min_samples_leaf': 5, 'n_estimators': 90}\n",
      "0.7286 (+/-0.0091) para {'max_features': 4, 'min_samples_leaf': 4, 'n_estimators': 100}\n",
      "0.7281 (+/-0.0084) para {'max_features': 7, 'min_samples_leaf': 4, 'n_estimators': 100}\n",
      "0.7280 (+/-0.0078) para {'max_features': 5, 'min_samples_leaf': 5, 'n_estimators': 100}\n",
      "0.7280 (+/-0.0057) para {'max_features': 5, 'min_samples_leaf': 4, 'n_estimators': 90}\n",
      "0.7278 (+/-0.0073) para {'max_features': 7, 'min_samples_leaf': 5, 'n_estimators': 100}\n",
      "0.7276 (+/-0.0066) para {'max_features': 7, 'min_samples_leaf': 4, 'n_estimators': 90}\n",
      "0.7275 (+/-0.0060) para {'max_features': 5, 'min_samples_leaf': 5, 'n_estimators': 90}\n",
      "0.7273 (+/-0.0062) para {'max_features': 7, 'min_samples_leaf': 5, 'n_estimators': 90}\n"
     ]
    }
   ],
   "source": [
    "grid_search.fit(X_train, y_train)\n",
    "means = grid_search.cv_results_['mean_test_score']\n",
    "stds = grid_search.cv_results_['std_test_score']\n",
    "for mean, std, params in sorted(zip(means, stds, grid_search.cv_results_['params']), \n",
    "                                key=lambda data: data[0], reverse=True):\n",
    "    print(\"%0.4f (+/-%0.04f) para %r\" % (mean, std * 2, params))"
   ]
  },
  {
   "cell_type": "code",
   "execution_count": 35,
   "metadata": {},
   "outputs": [
    {
     "name": "stdout",
     "output_type": "stream",
     "text": [
      "Train\n",
      "--------------------------------------------------------------------------------\n",
      "Accuracy 0.959881983293739\n",
      "----------------------------------------------------------------------------------------------------\n",
      "              precision    recall  f1-score   support\n",
      "\n",
      "           E       0.98      0.87      0.92      2991\n",
      "           S       0.97      0.93      0.95      7659\n",
      "           U       0.95      0.99      0.97     15448\n",
      "\n",
      "    accuracy                           0.96     26098\n",
      "   macro avg       0.97      0.93      0.95     26098\n",
      "weighted avg       0.96      0.96      0.96     26098\n",
      "\n"
     ]
    },
    {
     "data": {
      "image/png": "[encoded data removed]",
      "text/plain": [
       "<Figure size 720x432 with 2 Axes>"
      ]
     },
     "metadata": {
      "needs_background": "light"
     },
     "output_type": "display_data"
    },
    {
     "name": "stdout",
     "output_type": "stream",
     "text": [
      "--------------------------------------------------------------------------------\n",
      "Test\n",
      "--------------------------------------------------------------------------------\n",
      "Accuracy 0.7388505747126437\n",
      "----------------------------------------------------------------------------------------------------\n",
      "              precision    recall  f1-score   support\n",
      "\n",
      "           E       0.62      0.44      0.51       738\n",
      "           S       0.72      0.62      0.67      1949\n",
      "           U       0.76      0.86      0.80      3838\n",
      "\n",
      "    accuracy                           0.74      6525\n",
      "   macro avg       0.70      0.64      0.66      6525\n",
      "weighted avg       0.73      0.74      0.73      6525\n",
      "\n"
     ]
    },
    {
     "data": {
      "image/png": "[encoded data removed]",
      "text/plain": [
       "<Figure size 720x432 with 2 Axes>"
      ]
     },
     "metadata": {
      "needs_background": "light"
     },
     "output_type": "display_data"
    },
    {
     "name": "stdout",
     "output_type": "stream",
     "text": [
      "OOB\n",
      "--------------------------------------------------------------------------------\n",
      "0.7407464173499885\n"
     ]
    }
   ],
   "source": [
    "best_rf = grid_search.best_estimator_\n",
    "best_rf.fit(X_train, y_train)\n",
    "\n",
    "y_pred_train = best_rf.predict(X_train)\n",
    "y_pred_test  = best_rf.predict(X_test)\n",
    "print(\"Train\")\n",
    "print(\"-\"*80)\n",
    "print_classification_report(y_train, y_pred_train)\n",
    "print(\"-\"*80)\n",
    "print(\"Test\")\n",
    "print(\"-\"*80)\n",
    "print_classification_report(y_test, y_pred_test)\n",
    "print(\"OOB\")\n",
    "print(\"-\"*80)\n",
    "print(best_rf.oob_score_)"
   ]
  },
  {
   "cell_type": "code",
   "execution_count": 37,
   "metadata": {},
   "outputs": [
    {
     "data": {
      "text/plain": [
       "[('petroR90_r', 0.22044114230564854),\n",
       " ('Color', 0.13237370872471377),\n",
       " ('modelMag_z', 0.09444818373159049),\n",
       " ('modelMag_g', 0.07542600277026862),\n",
       " ('modelMag_i', 0.07259851021225941),\n",
       " ('Mag_abs', 0.07213036299760474),\n",
       " ('modelMag_r', 0.07194402818142252),\n",
       " ('ra', 0.0669366463262414),\n",
       " ('distancia_L', 0.06684548038066468),\n",
       " ('dec', 0.06510886115400306),\n",
       " ('modelMag_u', 0.06174707321558266)]"
      ]
     },
     "execution_count": 37,
     "metadata": {},
     "output_type": "execute_result"
    }
   ],
   "source": [
    "list(sorted(zip(X_train.columns, best_rf.feature_importances_), \n",
    "            key=lambda x: x[1], reverse=True))"
   ]
  },
  {
   "cell_type": "markdown",
   "metadata": {},
   "source": [
    "### petroR90_r, Color, y Mag_abs"
   ]
  },
  {
   "cell_type": "code",
   "execution_count": 29,
   "metadata": {},
   "outputs": [],
   "source": [
    "param_grid = [\n",
    "    #{\"n_estimators\": [10, 50, 80, 100], \"max_features\": [2, 4, 6, 8, 10, 12],\n",
    "    #\"criterion\": [\"gini\", \"entropy\"], \"min_samples_split\": [2,3,4,5]}\n",
    "    {\"n_estimators\": [90, 100], \"max_features\": [1,2,3],\n",
    "    \"min_samples_leaf\": [3,4,5]}\n",
    "]\n",
    "\n",
    "rf_clf = RandomForestClassifier(oob_score=True, random_state=421,)\n",
    "grid_search_3f = GridSearchCV(rf_clf, param_grid, cv=3, scoring=\"accuracy\", n_jobs=6, verbose=3)"
   ]
  },
  {
   "cell_type": "code",
   "execution_count": 30,
   "metadata": {},
   "outputs": [
    {
     "name": "stdout",
     "output_type": "stream",
     "text": [
      "Fitting 3 folds for each of 18 candidates, totalling 54 fits\n"
     ]
    },
    {
     "name": "stderr",
     "output_type": "stream",
     "text": [
      "[Parallel(n_jobs=6)]: Using backend LokyBackend with 6 concurrent workers.\n",
      "[Parallel(n_jobs=6)]: Done  20 tasks      | elapsed:   24.2s\n",
      "[Parallel(n_jobs=6)]: Done  54 out of  54 | elapsed:  2.0min finished\n"
     ]
    },
    {
     "name": "stdout",
     "output_type": "stream",
     "text": [
      "0.7063 (+/-0.0092) para {'max_features': 1, 'min_samples_leaf': 3, 'n_estimators': 100}\n",
      "0.7056 (+/-0.0081) para {'max_features': 1, 'min_samples_leaf': 3, 'n_estimators': 90}\n",
      "0.7040 (+/-0.0071) para {'max_features': 1, 'min_samples_leaf': 4, 'n_estimators': 90}\n",
      "0.7035 (+/-0.0060) para {'max_features': 1, 'min_samples_leaf': 4, 'n_estimators': 100}\n",
      "0.7030 (+/-0.0071) para {'max_features': 2, 'min_samples_leaf': 3, 'n_estimators': 100}\n",
      "0.7029 (+/-0.0083) para {'max_features': 2, 'min_samples_leaf': 3, 'n_estimators': 90}\n",
      "0.7024 (+/-0.0029) para {'max_features': 1, 'min_samples_leaf': 5, 'n_estimators': 90}\n",
      "0.7018 (+/-0.0035) para {'max_features': 1, 'min_samples_leaf': 5, 'n_estimators': 100}\n",
      "0.7016 (+/-0.0074) para {'max_features': 3, 'min_samples_leaf': 3, 'n_estimators': 100}\n",
      "0.7015 (+/-0.0073) para {'max_features': 3, 'min_samples_leaf': 3, 'n_estimators': 90}\n",
      "0.7006 (+/-0.0089) para {'max_features': 2, 'min_samples_leaf': 4, 'n_estimators': 100}\n",
      "0.7005 (+/-0.0093) para {'max_features': 2, 'min_samples_leaf': 4, 'n_estimators': 90}\n",
      "0.7001 (+/-0.0064) para {'max_features': 2, 'min_samples_leaf': 5, 'n_estimators': 100}\n",
      "0.7001 (+/-0.0042) para {'max_features': 3, 'min_samples_leaf': 4, 'n_estimators': 90}\n",
      "0.6999 (+/-0.0072) para {'max_features': 2, 'min_samples_leaf': 5, 'n_estimators': 90}\n",
      "0.6994 (+/-0.0053) para {'max_features': 3, 'min_samples_leaf': 4, 'n_estimators': 100}\n",
      "0.6989 (+/-0.0043) para {'max_features': 3, 'min_samples_leaf': 5, 'n_estimators': 100}\n",
      "0.6986 (+/-0.0022) para {'max_features': 3, 'min_samples_leaf': 5, 'n_estimators': 90}\n"
     ]
    }
   ],
   "source": [
    "grid_search_3f.fit(X_train_3ft, y_train)\n",
    "means = grid_search_3f.cv_results_['mean_test_score']\n",
    "stds = grid_search_3f.cv_results_['std_test_score']\n",
    "for mean, std, params in sorted(zip(means, stds, grid_search_3f.cv_results_['params']), \n",
    "                                key=lambda data: data[0], reverse=True):\n",
    "    print(\"%0.4f (+/-%0.04f) para %r\" % (mean, std * 2, params))"
   ]
  },
  {
   "cell_type": "code",
   "execution_count": 33,
   "metadata": {},
   "outputs": [
    {
     "name": "stdout",
     "output_type": "stream",
     "text": [
      "Train\n",
      "--------------------------------------------------------------------------------\n",
      "Accuracy 0.9076174419495747\n",
      "----------------------------------------------------------------------------------------------------\n",
      "              precision    recall  f1-score   support\n",
      "\n",
      "           E       0.92      0.74      0.82      2991\n",
      "           S       0.93      0.84      0.89      7659\n",
      "           U       0.89      0.97      0.93     15448\n",
      "\n",
      "    accuracy                           0.91     26098\n",
      "   macro avg       0.92      0.85      0.88     26098\n",
      "weighted avg       0.91      0.91      0.91     26098\n",
      "\n"
     ]
    },
    {
     "data": {
      "image/png": "[encoded data removed]",
      "text/plain": [
       "<Figure size 720x432 with 2 Axes>"
      ]
     },
     "metadata": {
      "needs_background": "light"
     },
     "output_type": "display_data"
    },
    {
     "name": "stdout",
     "output_type": "stream",
     "text": [
      "--------------------------------------------------------------------------------\n",
      "Test\n",
      "--------------------------------------------------------------------------------\n",
      "Accuracy 0.7062068965517241\n",
      "----------------------------------------------------------------------------------------------------\n",
      "              precision    recall  f1-score   support\n",
      "\n",
      "           E       0.57      0.40      0.47       738\n",
      "           S       0.67      0.55      0.61      1949\n",
      "           U       0.74      0.84      0.79      3838\n",
      "\n",
      "    accuracy                           0.71      6525\n",
      "   macro avg       0.66      0.60      0.62      6525\n",
      "weighted avg       0.70      0.71      0.70      6525\n",
      "\n"
     ]
    },
    {
     "data": {
      "image/png": "[encoded data removed]",
      "text/plain": [
       "<Figure size 720x432 with 2 Axes>"
      ]
     },
     "metadata": {
      "needs_background": "light"
     },
     "output_type": "display_data"
    },
    {
     "name": "stdout",
     "output_type": "stream",
     "text": [
      "OOB\n",
      "--------------------------------------------------------------------------------\n",
      "0.710820752548088\n"
     ]
    }
   ],
   "source": [
    "best_rf_3f = grid_search_3f.best_estimator_\n",
    "best_rf_3f.fit(X_train_3ft, y_train)\n",
    "\n",
    "y_pred_train = best_rf_3f.predict(X_train_3ft)\n",
    "y_pred_test  = best_rf_3f.predict(X_test_3ft)\n",
    "print(\"Train\")\n",
    "print(\"-\"*80)\n",
    "print_classification_report(y_train, y_pred_train)\n",
    "print(\"-\"*80)\n",
    "print(\"Test\")\n",
    "print(\"-\"*80)\n",
    "print_classification_report(y_test, y_pred_test)\n",
    "print(\"OOB\")\n",
    "print(\"-\"*80)\n",
    "print(best_rf_3f.oob_score_)"
   ]
  },
  {
   "cell_type": "code",
   "execution_count": 38,
   "metadata": {},
   "outputs": [
    {
     "data": {
      "text/plain": [
       "[('petroR90_r', 0.3914490783505787),\n",
       " ('Color', 0.30462515936873447),\n",
       " ('Mag_abs', 0.3039257622806869)]"
      ]
     },
     "execution_count": 38,
     "metadata": {},
     "output_type": "execute_result"
    }
   ],
   "source": [
    "list(sorted(zip(X_train_3ft.columns, best_rf_3f.feature_importances_), \n",
    "            key=lambda x: x[1], reverse=True))"
   ]
  },
  {
   "cell_type": "markdown",
   "metadata": {},
   "source": [
    "El accuracy no cambia tanto ya que pertroR90_r, Color y Mag_abs son de las variables más importantes en el modelo"
   ]
  },
  {
   "cell_type": "markdown",
   "metadata": {},
   "source": [
    "# Neural Networks"
   ]
  },
  {
   "cell_type": "markdown",
   "metadata": {},
   "source": [
    "Implemente el modelo visto en el demo 8 de la materia (*neural_network.MLPClassifier*). \n",
    "Varié algunos de sus parámetros excepto el parámetro *solver* el cual deben fijar en función de la dimensión del dataset."
   ]
  },
  {
   "cell_type": "code",
   "execution_count": 39,
   "metadata": {},
   "outputs": [],
   "source": [
    "from sklearn.preprocessing import StandardScaler, MinMaxScaler"
   ]
  },
  {
   "cell_type": "code",
   "execution_count": 40,
   "metadata": {},
   "outputs": [],
   "source": [
    "X = data_cl.drop([\"Type\", \"uncertain\", \"spiral\", \"elliptical\"], axis=1)\n",
    "y = data_cl[\"Type\"]\n",
    "X_train, X_test, y_train, y_test = train_test_split(X, y, test_size=0.2, random_state=42)"
   ]
  },
  {
   "cell_type": "code",
   "execution_count": 41,
   "metadata": {},
   "outputs": [],
   "source": [
    "std = StandardScaler()\n",
    "X_train_std = std.fit_transform(X_train)\n",
    "X_test_std   = std.transform(X_test)"
   ]
  },
  {
   "cell_type": "code",
   "execution_count": 42,
   "metadata": {},
   "outputs": [],
   "source": [
    "from sklearn import neural_network"
   ]
  },
  {
   "cell_type": "code",
   "execution_count": 43,
   "metadata": {},
   "outputs": [
    {
     "name": "stdout",
     "output_type": "stream",
     "text": [
      "Fitting 3 folds for each of 10 candidates, totalling 30 fits\n"
     ]
    },
    {
     "name": "stderr",
     "output_type": "stream",
     "text": [
      "[Parallel(n_jobs=6)]: Using backend LokyBackend with 6 concurrent workers.\n",
      "[Parallel(n_jobs=6)]: Done  30 out of  30 | elapsed:  3.4min remaining:    0.0s\n",
      "[Parallel(n_jobs=6)]: Done  30 out of  30 | elapsed:  3.4min finished\n"
     ]
    },
    {
     "name": "stdout",
     "output_type": "stream",
     "text": [
      "0.7147 (+/-0.0105) para {'alpha': 0.0001, 'hidden_layer_sizes': (9, 2)}\n",
      "0.7146 (+/-0.0106) para {'alpha': 1e-05, 'hidden_layer_sizes': (9, 2)}\n",
      "0.7117 (+/-0.0146) para {'alpha': 1e-05, 'hidden_layer_sizes': (9, 3)}\n",
      "0.7116 (+/-0.0143) para {'alpha': 0.0001, 'hidden_layer_sizes': (9, 3)}\n",
      "0.7101 (+/-0.0136) para {'alpha': 0.0001, 'hidden_layer_sizes': (8, 3)}\n",
      "0.7101 (+/-0.0136) para {'alpha': 1e-05, 'hidden_layer_sizes': (8, 3)}\n",
      "0.7099 (+/-0.0124) para {'alpha': 1e-05, 'hidden_layer_sizes': (8, 4)}\n",
      "0.7091 (+/-0.0145) para {'alpha': 0.0001, 'hidden_layer_sizes': (8, 4)}\n",
      "0.7087 (+/-0.0125) para {'alpha': 0.0001, 'hidden_layer_sizes': (8, 2)}\n",
      "0.7086 (+/-0.0128) para {'alpha': 1e-05, 'hidden_layer_sizes': (8, 2)}\n"
     ]
    }
   ],
   "source": [
    "param_grid = [\n",
    "    {\"hidden_layer_sizes\": [(8,2), (8,3), (8,4), (9,3), (9,2)],\n",
    "     \"alpha\": [1e-5,1e-4]\n",
    "    }\n",
    "]\n",
    "\n",
    "mlp_clf = neural_network.MLPClassifier(solver='adam', activation=\"logistic\", \n",
    "                                       random_state=532, max_iter=1000)\n",
    "mlp_gs = GridSearchCV(mlp_clf, param_grid, cv=3, scoring=\"accuracy\", n_jobs=6, verbose=3)\n",
    "mlp_gs.fit(X_train_std, y_train)\n",
    "\n",
    "means = mlp_gs.cv_results_['mean_test_score']\n",
    "stds = mlp_gs.cv_results_['std_test_score']\n",
    "for mean, std, params in sorted(zip(means, stds, mlp_gs.cv_results_['params']), \n",
    "                                key=lambda data: data[0], reverse=True):\n",
    "    print(\"%0.4f (+/-%0.04f) para %r\" % (mean, std * 2, params))"
   ]
  },
  {
   "cell_type": "code",
   "execution_count": 44,
   "metadata": {
    "scrolled": true
   },
   "outputs": [
    {
     "name": "stdout",
     "output_type": "stream",
     "text": [
      "Train\n",
      "--------------------------------------------------------------------------------\n",
      "Accuracy 0.7168748563108284\n",
      "----------------------------------------------------------------------------------------------------\n",
      "              precision    recall  f1-score   support\n",
      "\n",
      "           E       0.56      0.38      0.45      2991\n",
      "           S       0.69      0.61      0.65      7659\n",
      "           U       0.75      0.83      0.79     15448\n",
      "\n",
      "    accuracy                           0.72     26098\n",
      "   macro avg       0.67      0.61      0.63     26098\n",
      "weighted avg       0.71      0.72      0.71     26098\n",
      "\n"
     ]
    },
    {
     "data": {
      "image/png": "[encoded data removed]",
      "text/plain": [
       "<Figure size 720x432 with 2 Axes>"
      ]
     },
     "metadata": {
      "needs_background": "light"
     },
     "output_type": "display_data"
    },
    {
     "name": "stdout",
     "output_type": "stream",
     "text": [
      "--------------------------------------------------------------------------------\n",
      "Test\n",
      "--------------------------------------------------------------------------------\n",
      "Accuracy 0.717088122605364\n",
      "----------------------------------------------------------------------------------------------------\n",
      "              precision    recall  f1-score   support\n",
      "\n",
      "           E       0.58      0.36      0.45       738\n",
      "           S       0.69      0.61      0.65      1949\n",
      "           U       0.74      0.84      0.79      3838\n",
      "\n",
      "    accuracy                           0.72      6525\n",
      "   macro avg       0.67      0.60      0.63      6525\n",
      "weighted avg       0.71      0.72      0.71      6525\n",
      "\n"
     ]
    },
    {
     "data": {
      "image/png": "[encoded data removed]",
      "text/plain": [
       "<Figure size 720x432 with 2 Axes>"
      ]
     },
     "metadata": {
      "needs_background": "light"
     },
     "output_type": "display_data"
    }
   ],
   "source": [
    "best_mlp = mlp_gs.best_estimator_\n",
    "best_mlp.fit(X_train_std, y_train)\n",
    "\n",
    "y_pred_train = best_mlp.predict(X_train_std)\n",
    "y_pred_test  = best_mlp.predict(X_test_std)\n",
    "print(\"Train\")\n",
    "print(\"-\"*80)\n",
    "print_classification_report(y_train, y_pred_train)\n",
    "print(\"-\"*80)\n",
    "print(\"Test\")\n",
    "print(\"-\"*80)\n",
    "print_classification_report(y_test, y_pred_test)"
   ]
  },
  {
   "cell_type": "code",
   "execution_count": null,
   "metadata": {},
   "outputs": [],
   "source": []
  }
 ],
 "metadata": {
  "kernelspec": {
   "display_name": "Python 3",
   "language": "python",
   "name": "python3"
  },
  "language_info": {
   "codemirror_mode": {
    "name": "ipython",
    "version": 3
   },
   "file_extension": ".py",
   "mimetype": "text/x-python",
   "name": "python",
   "nbconvert_exporter": "python",
   "pygments_lexer": "ipython3",
   "version": "3.7.3"
  },
  "toc": {
   "base_numbering": 1,
   "nav_menu": {},
   "number_sections": true,
   "sideBar": true,
   "skip_h1_title": false,
   "title_cell": "Table of Contents",
   "title_sidebar": "Contents",
   "toc_cell": false,
   "toc_position": {},
   "toc_section_display": true,
   "toc_window_display": true
  }
 },
 "nbformat": 4,
 "nbformat_minor": 2
}
