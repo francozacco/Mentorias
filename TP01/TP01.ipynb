{
 "cells": [
  {
   "cell_type": "markdown",
   "metadata": {
    "colab_type": "text",
    "id": "3mNS0irgQp4I"
   },
   "source": [
    "# Modelo de Práctico Análisis y Visualización de Datos "
   ]
  },
  {
   "cell_type": "markdown",
   "metadata": {
    "colab_type": "text",
    "id": "S8pYj9M8Qp4J"
   },
   "source": [
    "El *dataset* contiene las siguientes columnas:\n",
    "\n",
    "- **rac y dec** = Posición angular, rac de 0 a 360 y dec de -90 a 90\n",
    "- **Mag_u,Mag_g,Mag_r,Mag_i,Mag_z**= Estas variables representan una fracción de la luz total que observamos de las galaxias según su frecuencia (como por ejemplo, la frecuencia de radio, para más información [wiki](https://es.wikipedia.org/wiki/Espectro_visible))\n",
    "- **z** = Es una medida de la distancia a la que se encuentra la galaxia\n",
    "- **R** = Es una medida del tamaño de la galaxia\n",
    "- **color**= Como su nombre lo indica es el color más predominante en la galaxia\n",
    "- **elíptica, espiral, irregular**= Estas columnas identifican el tipo de morfología de las galaxias. Si el valor de una de estas tres columnas es 1, entonces la galaxia tiene esa morfología y las dos restantes tendran el valor 0. "
   ]
  },
  {
   "cell_type": "markdown",
   "metadata": {
    "colab_type": "text",
    "id": "xiDaix5iQp4K"
   },
   "source": [
    "# Paquetes "
   ]
  },
  {
   "cell_type": "code",
   "execution_count": 1,
   "metadata": {
    "colab": {},
    "colab_type": "code",
    "id": "XPNB_bbVQp4L"
   },
   "outputs": [],
   "source": [
    "import pandas as pd\n",
    "import matplotlib.pyplot as plt\n",
    "import seaborn\n",
    "import scipy as sp\n",
    "import numpy as np\n",
    "import matplotlib.patches as mpatches\n"
   ]
  },
  {
   "cell_type": "markdown",
   "metadata": {
    "colab_type": "text",
    "id": "V-vsM3mrQp4O"
   },
   "source": [
    "# Carga de Datos"
   ]
  },
  {
   "cell_type": "code",
   "execution_count": 2,
   "metadata": {
    "colab": {},
    "colab_type": "code",
    "id": "vHIlGfHFQp4P"
   },
   "outputs": [],
   "source": [
    "url = 'https://raw.githubusercontent.com/francozacco/mentorias_diplodatos_2019/master/TP01/galaxias.csv'\n",
    "data = pd.read_csv(url, sep=',')"
   ]
  },
  {
   "cell_type": "code",
   "execution_count": 3,
   "metadata": {
    "colab": {
     "base_uri": "https://localhost:8080/",
     "height": 993
    },
    "colab_type": "code",
    "id": "QpkOHzGtQp4R",
    "outputId": "83c08496-71a4-49ab-9892-dd7b37ece64b"
   },
   "outputs": [
    {
     "data": {
      "text/plain": [
       "'Head'"
      ]
     },
     "metadata": {},
     "output_type": "display_data"
    },
    {
     "data": {
      "text/html": [
       "<div>\n",
       "<style scoped>\n",
       "    .dataframe tbody tr th:only-of-type {\n",
       "        vertical-align: middle;\n",
       "    }\n",
       "\n",
       "    .dataframe tbody tr th {\n",
       "        vertical-align: top;\n",
       "    }\n",
       "\n",
       "    .dataframe thead th {\n",
       "        text-align: right;\n",
       "    }\n",
       "</style>\n",
       "<table border=\"1\" class=\"dataframe\">\n",
       "  <thead>\n",
       "    <tr style=\"text-align: right;\">\n",
       "      <th></th>\n",
       "      <th>ra</th>\n",
       "      <th>dec</th>\n",
       "      <th>Mag_u</th>\n",
       "      <th>Mag_g</th>\n",
       "      <th>Mag_r</th>\n",
       "      <th>Mag_i</th>\n",
       "      <th>Mag_z</th>\n",
       "      <th>R</th>\n",
       "      <th>z</th>\n",
       "      <th>color</th>\n",
       "      <th>eliptica</th>\n",
       "      <th>espiral</th>\n",
       "      <th>irregular</th>\n",
       "    </tr>\n",
       "  </thead>\n",
       "  <tbody>\n",
       "    <tr>\n",
       "      <th>0</th>\n",
       "      <td>124.681690</td>\n",
       "      <td>51.782638</td>\n",
       "      <td>18.88496</td>\n",
       "      <td>17.75081</td>\n",
       "      <td>17.43881</td>\n",
       "      <td>17.23038</td>\n",
       "      <td>17.13276</td>\n",
       "      <td>6.112216</td>\n",
       "      <td>0.042512</td>\n",
       "      <td>-1.446144</td>\n",
       "      <td>0</td>\n",
       "      <td>0</td>\n",
       "      <td>1</td>\n",
       "    </tr>\n",
       "    <tr>\n",
       "      <th>1</th>\n",
       "      <td>128.676351</td>\n",
       "      <td>51.973910</td>\n",
       "      <td>20.20252</td>\n",
       "      <td>18.14648</td>\n",
       "      <td>17.51353</td>\n",
       "      <td>17.13207</td>\n",
       "      <td>16.83231</td>\n",
       "      <td>6.618816</td>\n",
       "      <td>0.049901</td>\n",
       "      <td>-2.688982</td>\n",
       "      <td>0</td>\n",
       "      <td>1</td>\n",
       "      <td>0</td>\n",
       "    </tr>\n",
       "    <tr>\n",
       "      <th>2</th>\n",
       "      <td>131.396389</td>\n",
       "      <td>53.550571</td>\n",
       "      <td>18.85028</td>\n",
       "      <td>17.48945</td>\n",
       "      <td>16.96463</td>\n",
       "      <td>16.68431</td>\n",
       "      <td>16.50479</td>\n",
       "      <td>10.350600</td>\n",
       "      <td>0.045041</td>\n",
       "      <td>-1.885653</td>\n",
       "      <td>0</td>\n",
       "      <td>1</td>\n",
       "      <td>0</td>\n",
       "    </tr>\n",
       "    <tr>\n",
       "      <th>3</th>\n",
       "      <td>129.384163</td>\n",
       "      <td>55.251341</td>\n",
       "      <td>19.29007</td>\n",
       "      <td>17.38153</td>\n",
       "      <td>16.52590</td>\n",
       "      <td>16.11502</td>\n",
       "      <td>15.78828</td>\n",
       "      <td>5.981402</td>\n",
       "      <td>0.045485</td>\n",
       "      <td>-2.764166</td>\n",
       "      <td>0</td>\n",
       "      <td>0</td>\n",
       "      <td>1</td>\n",
       "    </tr>\n",
       "  </tbody>\n",
       "</table>\n",
       "</div>"
      ],
      "text/plain": [
       "           ra        dec     Mag_u     Mag_g     Mag_r     Mag_i     Mag_z  \\\n",
       "0  124.681690  51.782638  18.88496  17.75081  17.43881  17.23038  17.13276   \n",
       "1  128.676351  51.973910  20.20252  18.14648  17.51353  17.13207  16.83231   \n",
       "2  131.396389  53.550571  18.85028  17.48945  16.96463  16.68431  16.50479   \n",
       "3  129.384163  55.251341  19.29007  17.38153  16.52590  16.11502  15.78828   \n",
       "\n",
       "           R         z     color  eliptica  espiral  irregular  \n",
       "0   6.112216  0.042512 -1.446144         0        0          1  \n",
       "1   6.618816  0.049901 -2.688982         0        1          0  \n",
       "2  10.350600  0.045041 -1.885653         0        1          0  \n",
       "3   5.981402  0.045485 -2.764166         0        0          1  "
      ]
     },
     "metadata": {},
     "output_type": "display_data"
    },
    {
     "data": {
      "text/plain": [
       "'Tamaño'"
      ]
     },
     "metadata": {},
     "output_type": "display_data"
    },
    {
     "data": {
      "text/plain": [
       "(92102, 13)"
      ]
     },
     "metadata": {},
     "output_type": "display_data"
    },
    {
     "data": {
      "text/plain": [
       "'Valores faltantes'"
      ]
     },
     "metadata": {},
     "output_type": "display_data"
    },
    {
     "data": {
      "text/html": [
       "<div>\n",
       "<style scoped>\n",
       "    .dataframe tbody tr th:only-of-type {\n",
       "        vertical-align: middle;\n",
       "    }\n",
       "\n",
       "    .dataframe tbody tr th {\n",
       "        vertical-align: top;\n",
       "    }\n",
       "\n",
       "    .dataframe thead th {\n",
       "        text-align: right;\n",
       "    }\n",
       "</style>\n",
       "<table border=\"1\" class=\"dataframe\">\n",
       "  <thead>\n",
       "    <tr style=\"text-align: right;\">\n",
       "      <th></th>\n",
       "      <th>0</th>\n",
       "    </tr>\n",
       "  </thead>\n",
       "  <tbody>\n",
       "    <tr>\n",
       "      <th>ra</th>\n",
       "      <td>True</td>\n",
       "    </tr>\n",
       "    <tr>\n",
       "      <th>dec</th>\n",
       "      <td>True</td>\n",
       "    </tr>\n",
       "    <tr>\n",
       "      <th>Mag_u</th>\n",
       "      <td>True</td>\n",
       "    </tr>\n",
       "    <tr>\n",
       "      <th>Mag_g</th>\n",
       "      <td>True</td>\n",
       "    </tr>\n",
       "    <tr>\n",
       "      <th>Mag_r</th>\n",
       "      <td>True</td>\n",
       "    </tr>\n",
       "    <tr>\n",
       "      <th>Mag_i</th>\n",
       "      <td>True</td>\n",
       "    </tr>\n",
       "    <tr>\n",
       "      <th>Mag_z</th>\n",
       "      <td>True</td>\n",
       "    </tr>\n",
       "    <tr>\n",
       "      <th>R</th>\n",
       "      <td>True</td>\n",
       "    </tr>\n",
       "    <tr>\n",
       "      <th>z</th>\n",
       "      <td>True</td>\n",
       "    </tr>\n",
       "    <tr>\n",
       "      <th>color</th>\n",
       "      <td>True</td>\n",
       "    </tr>\n",
       "    <tr>\n",
       "      <th>eliptica</th>\n",
       "      <td>True</td>\n",
       "    </tr>\n",
       "    <tr>\n",
       "      <th>espiral</th>\n",
       "      <td>True</td>\n",
       "    </tr>\n",
       "    <tr>\n",
       "      <th>irregular</th>\n",
       "      <td>True</td>\n",
       "    </tr>\n",
       "  </tbody>\n",
       "</table>\n",
       "</div>"
      ],
      "text/plain": [
       "              0\n",
       "ra         True\n",
       "dec        True\n",
       "Mag_u      True\n",
       "Mag_g      True\n",
       "Mag_r      True\n",
       "Mag_i      True\n",
       "Mag_z      True\n",
       "R          True\n",
       "z          True\n",
       "color      True\n",
       "eliptica   True\n",
       "espiral    True\n",
       "irregular  True"
      ]
     },
     "metadata": {},
     "output_type": "display_data"
    },
    {
     "data": {
      "text/plain": [
       "'Estadísticos del dataset'"
      ]
     },
     "metadata": {},
     "output_type": "display_data"
    },
    {
     "data": {
      "text/html": [
       "<div>\n",
       "<style scoped>\n",
       "    .dataframe tbody tr th:only-of-type {\n",
       "        vertical-align: middle;\n",
       "    }\n",
       "\n",
       "    .dataframe tbody tr th {\n",
       "        vertical-align: top;\n",
       "    }\n",
       "\n",
       "    .dataframe thead th {\n",
       "        text-align: right;\n",
       "    }\n",
       "</style>\n",
       "<table border=\"1\" class=\"dataframe\">\n",
       "  <thead>\n",
       "    <tr style=\"text-align: right;\">\n",
       "      <th></th>\n",
       "      <th>ra</th>\n",
       "      <th>dec</th>\n",
       "      <th>Mag_u</th>\n",
       "      <th>Mag_g</th>\n",
       "      <th>Mag_r</th>\n",
       "      <th>Mag_i</th>\n",
       "      <th>Mag_z</th>\n",
       "      <th>R</th>\n",
       "      <th>z</th>\n",
       "      <th>color</th>\n",
       "      <th>eliptica</th>\n",
       "      <th>espiral</th>\n",
       "      <th>irregular</th>\n",
       "    </tr>\n",
       "  </thead>\n",
       "  <tbody>\n",
       "    <tr>\n",
       "      <th>count</th>\n",
       "      <td>92102.000000</td>\n",
       "      <td>92102.000000</td>\n",
       "      <td>92102.000000</td>\n",
       "      <td>92102.000000</td>\n",
       "      <td>92102.000000</td>\n",
       "      <td>92102.000000</td>\n",
       "      <td>92102.000000</td>\n",
       "      <td>92102.000000</td>\n",
       "      <td>92102.000000</td>\n",
       "      <td>92102.000000</td>\n",
       "      <td>92102.000000</td>\n",
       "      <td>92102.000000</td>\n",
       "      <td>92102.000000</td>\n",
       "    </tr>\n",
       "    <tr>\n",
       "      <th>mean</th>\n",
       "      <td>181.086338</td>\n",
       "      <td>24.723737</td>\n",
       "      <td>18.143378</td>\n",
       "      <td>16.708392</td>\n",
       "      <td>16.312647</td>\n",
       "      <td>15.991780</td>\n",
       "      <td>15.433421</td>\n",
       "      <td>9.459875</td>\n",
       "      <td>0.036092</td>\n",
       "      <td>-1.830732</td>\n",
       "      <td>0.089651</td>\n",
       "      <td>0.326225</td>\n",
       "      <td>0.584124</td>\n",
       "    </tr>\n",
       "    <tr>\n",
       "      <th>std</th>\n",
       "      <td>61.177151</td>\n",
       "      <td>18.853785</td>\n",
       "      <td>46.690487</td>\n",
       "      <td>46.684358</td>\n",
       "      <td>1.092588</td>\n",
       "      <td>1.151259</td>\n",
       "      <td>57.168725</td>\n",
       "      <td>5.248708</td>\n",
       "      <td>0.008435</td>\n",
       "      <td>46.686363</td>\n",
       "      <td>0.285682</td>\n",
       "      <td>0.468833</td>\n",
       "      <td>0.492875</td>\n",
       "    </tr>\n",
       "    <tr>\n",
       "      <th>min</th>\n",
       "      <td>0.008745</td>\n",
       "      <td>-11.202394</td>\n",
       "      <td>-9999.000000</td>\n",
       "      <td>-9999.000000</td>\n",
       "      <td>11.524090</td>\n",
       "      <td>11.220580</td>\n",
       "      <td>-9999.000000</td>\n",
       "      <td>0.842248</td>\n",
       "      <td>0.020001</td>\n",
       "      <td>-13.484570</td>\n",
       "      <td>0.000000</td>\n",
       "      <td>0.000000</td>\n",
       "      <td>0.000000</td>\n",
       "    </tr>\n",
       "    <tr>\n",
       "      <th>25%</th>\n",
       "      <td>150.287271</td>\n",
       "      <td>9.115292</td>\n",
       "      <td>17.725203</td>\n",
       "      <td>16.251015</td>\n",
       "      <td>15.562648</td>\n",
       "      <td>15.197173</td>\n",
       "      <td>14.910782</td>\n",
       "      <td>6.117608</td>\n",
       "      <td>0.029082</td>\n",
       "      <td>-2.510555</td>\n",
       "      <td>0.000000</td>\n",
       "      <td>0.000000</td>\n",
       "      <td>0.000000</td>\n",
       "    </tr>\n",
       "    <tr>\n",
       "      <th>50%</th>\n",
       "      <td>183.219954</td>\n",
       "      <td>23.111344</td>\n",
       "      <td>18.442490</td>\n",
       "      <td>17.082385</td>\n",
       "      <td>16.491180</td>\n",
       "      <td>16.171225</td>\n",
       "      <td>15.934050</td>\n",
       "      <td>8.361149</td>\n",
       "      <td>0.036321</td>\n",
       "      <td>-1.994779</td>\n",
       "      <td>0.000000</td>\n",
       "      <td>0.000000</td>\n",
       "      <td>1.000000</td>\n",
       "    </tr>\n",
       "    <tr>\n",
       "      <th>75%</th>\n",
       "      <td>222.722975</td>\n",
       "      <td>38.982500</td>\n",
       "      <td>19.028265</td>\n",
       "      <td>17.720817</td>\n",
       "      <td>17.209297</td>\n",
       "      <td>16.928400</td>\n",
       "      <td>16.736465</td>\n",
       "      <td>11.345535</td>\n",
       "      <td>0.043620</td>\n",
       "      <td>-1.606971</td>\n",
       "      <td>0.000000</td>\n",
       "      <td>1.000000</td>\n",
       "      <td>1.000000</td>\n",
       "    </tr>\n",
       "    <tr>\n",
       "      <th>max</th>\n",
       "      <td>359.965567</td>\n",
       "      <td>70.133213</td>\n",
       "      <td>28.787190</td>\n",
       "      <td>25.526970</td>\n",
       "      <td>27.911470</td>\n",
       "      <td>25.657780</td>\n",
       "      <td>26.923540</td>\n",
       "      <td>231.121800</td>\n",
       "      <td>0.050000</td>\n",
       "      <td>10015.860000</td>\n",
       "      <td>1.000000</td>\n",
       "      <td>1.000000</td>\n",
       "      <td>1.000000</td>\n",
       "    </tr>\n",
       "  </tbody>\n",
       "</table>\n",
       "</div>"
      ],
      "text/plain": [
       "                 ra           dec         Mag_u         Mag_g         Mag_r  \\\n",
       "count  92102.000000  92102.000000  92102.000000  92102.000000  92102.000000   \n",
       "mean     181.086338     24.723737     18.143378     16.708392     16.312647   \n",
       "std       61.177151     18.853785     46.690487     46.684358      1.092588   \n",
       "min        0.008745    -11.202394  -9999.000000  -9999.000000     11.524090   \n",
       "25%      150.287271      9.115292     17.725203     16.251015     15.562648   \n",
       "50%      183.219954     23.111344     18.442490     17.082385     16.491180   \n",
       "75%      222.722975     38.982500     19.028265     17.720817     17.209297   \n",
       "max      359.965567     70.133213     28.787190     25.526970     27.911470   \n",
       "\n",
       "              Mag_i         Mag_z             R             z         color  \\\n",
       "count  92102.000000  92102.000000  92102.000000  92102.000000  92102.000000   \n",
       "mean      15.991780     15.433421      9.459875      0.036092     -1.830732   \n",
       "std        1.151259     57.168725      5.248708      0.008435     46.686363   \n",
       "min       11.220580  -9999.000000      0.842248      0.020001    -13.484570   \n",
       "25%       15.197173     14.910782      6.117608      0.029082     -2.510555   \n",
       "50%       16.171225     15.934050      8.361149      0.036321     -1.994779   \n",
       "75%       16.928400     16.736465     11.345535      0.043620     -1.606971   \n",
       "max       25.657780     26.923540    231.121800      0.050000  10015.860000   \n",
       "\n",
       "           eliptica       espiral     irregular  \n",
       "count  92102.000000  92102.000000  92102.000000  \n",
       "mean       0.089651      0.326225      0.584124  \n",
       "std        0.285682      0.468833      0.492875  \n",
       "min        0.000000      0.000000      0.000000  \n",
       "25%        0.000000      0.000000      0.000000  \n",
       "50%        0.000000      0.000000      1.000000  \n",
       "75%        0.000000      1.000000      1.000000  \n",
       "max        1.000000      1.000000      1.000000  "
      ]
     },
     "metadata": {},
     "output_type": "display_data"
    }
   ],
   "source": [
    "display('Head',data.head(4))\n",
    "display('Tamaño',data.shape)\n",
    "display('Valores faltantes',data.notnull().all().to_frame())\n",
    "display('Estadísticos del dataset',data.describe())"
   ]
  },
  {
   "cell_type": "markdown",
   "metadata": {
    "colab_type": "text",
    "id": "0RPGMqrxQp4X"
   },
   "source": [
    "# Clases"
   ]
  },
  {
   "cell_type": "markdown",
   "metadata": {
    "colab_type": "text",
    "id": "hJPsWpk1Qp4X"
   },
   "source": [
    "Defino una nueva columna de tipo categórico para concatenar la clase o tipo morfologíco de las galaxias."
   ]
  },
  {
   "cell_type": "code",
   "execution_count": 4,
   "metadata": {
    "colab": {
     "base_uri": "https://localhost:8080/",
     "height": 379
    },
    "colab_type": "code",
    "id": "7L9FCkHuQp4Y",
    "outputId": "09c6539d-bb99-401f-a25e-07b25a56c060"
   },
   "outputs": [
    {
     "data": {
      "text/html": [
       "<div>\n",
       "<style scoped>\n",
       "    .dataframe tbody tr th:only-of-type {\n",
       "        vertical-align: middle;\n",
       "    }\n",
       "\n",
       "    .dataframe tbody tr th {\n",
       "        vertical-align: top;\n",
       "    }\n",
       "\n",
       "    .dataframe thead th {\n",
       "        text-align: right;\n",
       "    }\n",
       "</style>\n",
       "<table border=\"1\" class=\"dataframe\">\n",
       "  <thead>\n",
       "    <tr style=\"text-align: right;\">\n",
       "      <th></th>\n",
       "      <th>ra</th>\n",
       "      <th>dec</th>\n",
       "      <th>Mag_u</th>\n",
       "      <th>Mag_g</th>\n",
       "      <th>Mag_r</th>\n",
       "      <th>Mag_i</th>\n",
       "      <th>Mag_z</th>\n",
       "      <th>R</th>\n",
       "      <th>z</th>\n",
       "      <th>color</th>\n",
       "      <th>eliptica</th>\n",
       "      <th>espiral</th>\n",
       "      <th>irregular</th>\n",
       "      <th>clase</th>\n",
       "    </tr>\n",
       "  </thead>\n",
       "  <tbody>\n",
       "    <tr>\n",
       "      <th>0</th>\n",
       "      <td>124.681690</td>\n",
       "      <td>51.782638</td>\n",
       "      <td>18.88496</td>\n",
       "      <td>17.75081</td>\n",
       "      <td>17.43881</td>\n",
       "      <td>17.23038</td>\n",
       "      <td>17.13276</td>\n",
       "      <td>6.112216</td>\n",
       "      <td>0.042512</td>\n",
       "      <td>-1.446144</td>\n",
       "      <td>0</td>\n",
       "      <td>0</td>\n",
       "      <td>1</td>\n",
       "      <td>I</td>\n",
       "    </tr>\n",
       "    <tr>\n",
       "      <th>1</th>\n",
       "      <td>128.676351</td>\n",
       "      <td>51.973910</td>\n",
       "      <td>20.20252</td>\n",
       "      <td>18.14648</td>\n",
       "      <td>17.51353</td>\n",
       "      <td>17.13207</td>\n",
       "      <td>16.83231</td>\n",
       "      <td>6.618816</td>\n",
       "      <td>0.049901</td>\n",
       "      <td>-2.688982</td>\n",
       "      <td>0</td>\n",
       "      <td>1</td>\n",
       "      <td>0</td>\n",
       "      <td>S</td>\n",
       "    </tr>\n",
       "    <tr>\n",
       "      <th>2</th>\n",
       "      <td>131.396389</td>\n",
       "      <td>53.550571</td>\n",
       "      <td>18.85028</td>\n",
       "      <td>17.48945</td>\n",
       "      <td>16.96463</td>\n",
       "      <td>16.68431</td>\n",
       "      <td>16.50479</td>\n",
       "      <td>10.350600</td>\n",
       "      <td>0.045041</td>\n",
       "      <td>-1.885653</td>\n",
       "      <td>0</td>\n",
       "      <td>1</td>\n",
       "      <td>0</td>\n",
       "      <td>S</td>\n",
       "    </tr>\n",
       "    <tr>\n",
       "      <th>3</th>\n",
       "      <td>129.384163</td>\n",
       "      <td>55.251341</td>\n",
       "      <td>19.29007</td>\n",
       "      <td>17.38153</td>\n",
       "      <td>16.52590</td>\n",
       "      <td>16.11502</td>\n",
       "      <td>15.78828</td>\n",
       "      <td>5.981402</td>\n",
       "      <td>0.045485</td>\n",
       "      <td>-2.764166</td>\n",
       "      <td>0</td>\n",
       "      <td>0</td>\n",
       "      <td>1</td>\n",
       "      <td>I</td>\n",
       "    </tr>\n",
       "    <tr>\n",
       "      <th>4</th>\n",
       "      <td>129.945145</td>\n",
       "      <td>55.628530</td>\n",
       "      <td>18.08747</td>\n",
       "      <td>16.73876</td>\n",
       "      <td>16.16752</td>\n",
       "      <td>15.83606</td>\n",
       "      <td>15.55770</td>\n",
       "      <td>8.978182</td>\n",
       "      <td>0.035336</td>\n",
       "      <td>-1.919950</td>\n",
       "      <td>0</td>\n",
       "      <td>1</td>\n",
       "      <td>0</td>\n",
       "      <td>S</td>\n",
       "    </tr>\n",
       "    <tr>\n",
       "      <th>5</th>\n",
       "      <td>131.328756</td>\n",
       "      <td>55.842499</td>\n",
       "      <td>18.93437</td>\n",
       "      <td>17.23941</td>\n",
       "      <td>16.45432</td>\n",
       "      <td>16.02061</td>\n",
       "      <td>15.70122</td>\n",
       "      <td>5.162340</td>\n",
       "      <td>0.044426</td>\n",
       "      <td>-2.480055</td>\n",
       "      <td>0</td>\n",
       "      <td>1</td>\n",
       "      <td>0</td>\n",
       "      <td>S</td>\n",
       "    </tr>\n",
       "    <tr>\n",
       "      <th>6</th>\n",
       "      <td>132.234271</td>\n",
       "      <td>55.135706</td>\n",
       "      <td>18.60261</td>\n",
       "      <td>16.86640</td>\n",
       "      <td>16.08706</td>\n",
       "      <td>15.70185</td>\n",
       "      <td>15.38955</td>\n",
       "      <td>7.045557</td>\n",
       "      <td>0.030671</td>\n",
       "      <td>-2.515554</td>\n",
       "      <td>0</td>\n",
       "      <td>1</td>\n",
       "      <td>0</td>\n",
       "      <td>S</td>\n",
       "    </tr>\n",
       "    <tr>\n",
       "      <th>7</th>\n",
       "      <td>130.242257</td>\n",
       "      <td>52.871736</td>\n",
       "      <td>18.44686</td>\n",
       "      <td>16.78795</td>\n",
       "      <td>16.00473</td>\n",
       "      <td>15.60493</td>\n",
       "      <td>15.23374</td>\n",
       "      <td>6.949870</td>\n",
       "      <td>0.043900</td>\n",
       "      <td>-2.442131</td>\n",
       "      <td>0</td>\n",
       "      <td>0</td>\n",
       "      <td>1</td>\n",
       "      <td>I</td>\n",
       "    </tr>\n",
       "    <tr>\n",
       "      <th>8</th>\n",
       "      <td>133.017396</td>\n",
       "      <td>52.566768</td>\n",
       "      <td>18.97409</td>\n",
       "      <td>17.82834</td>\n",
       "      <td>17.37524</td>\n",
       "      <td>17.13555</td>\n",
       "      <td>16.88875</td>\n",
       "      <td>5.847063</td>\n",
       "      <td>0.047060</td>\n",
       "      <td>-1.598846</td>\n",
       "      <td>0</td>\n",
       "      <td>0</td>\n",
       "      <td>1</td>\n",
       "      <td>I</td>\n",
       "    </tr>\n",
       "    <tr>\n",
       "      <th>9</th>\n",
       "      <td>133.395285</td>\n",
       "      <td>52.532760</td>\n",
       "      <td>18.93884</td>\n",
       "      <td>17.45655</td>\n",
       "      <td>16.67665</td>\n",
       "      <td>16.27514</td>\n",
       "      <td>15.93159</td>\n",
       "      <td>7.389670</td>\n",
       "      <td>0.030417</td>\n",
       "      <td>-2.262188</td>\n",
       "      <td>0</td>\n",
       "      <td>1</td>\n",
       "      <td>0</td>\n",
       "      <td>S</td>\n",
       "    </tr>\n",
       "  </tbody>\n",
       "</table>\n",
       "</div>"
      ],
      "text/plain": [
       "           ra        dec     Mag_u     Mag_g     Mag_r     Mag_i     Mag_z  \\\n",
       "0  124.681690  51.782638  18.88496  17.75081  17.43881  17.23038  17.13276   \n",
       "1  128.676351  51.973910  20.20252  18.14648  17.51353  17.13207  16.83231   \n",
       "2  131.396389  53.550571  18.85028  17.48945  16.96463  16.68431  16.50479   \n",
       "3  129.384163  55.251341  19.29007  17.38153  16.52590  16.11502  15.78828   \n",
       "4  129.945145  55.628530  18.08747  16.73876  16.16752  15.83606  15.55770   \n",
       "5  131.328756  55.842499  18.93437  17.23941  16.45432  16.02061  15.70122   \n",
       "6  132.234271  55.135706  18.60261  16.86640  16.08706  15.70185  15.38955   \n",
       "7  130.242257  52.871736  18.44686  16.78795  16.00473  15.60493  15.23374   \n",
       "8  133.017396  52.566768  18.97409  17.82834  17.37524  17.13555  16.88875   \n",
       "9  133.395285  52.532760  18.93884  17.45655  16.67665  16.27514  15.93159   \n",
       "\n",
       "           R         z     color  eliptica  espiral  irregular clase  \n",
       "0   6.112216  0.042512 -1.446144         0        0          1     I  \n",
       "1   6.618816  0.049901 -2.688982         0        1          0     S  \n",
       "2  10.350600  0.045041 -1.885653         0        1          0     S  \n",
       "3   5.981402  0.045485 -2.764166         0        0          1     I  \n",
       "4   8.978182  0.035336 -1.919950         0        1          0     S  \n",
       "5   5.162340  0.044426 -2.480055         0        1          0     S  \n",
       "6   7.045557  0.030671 -2.515554         0        1          0     S  \n",
       "7   6.949870  0.043900 -2.442131         0        0          1     I  \n",
       "8   5.847063  0.047060 -1.598846         0        0          1     I  \n",
       "9   7.389670  0.030417 -2.262188         0        1          0     S  "
      ]
     },
     "execution_count": 4,
     "metadata": {},
     "output_type": "execute_result"
    }
   ],
   "source": [
    "clase=[]\n",
    "for i in range(0,data.shape[0]):\n",
    "    if data.eliptica[i]==1:\n",
    "        clase.append('E')\n",
    "    elif data.espiral[i]==1:\n",
    "        clase.append('S')\n",
    "    elif data.irregular[i]==1:\n",
    "        clase.append('I')\n",
    "data['clase']=clase\n",
    "data.head(10)"
   ]
  },
  {
   "cell_type": "markdown",
   "metadata": {
    "colab_type": "text",
    "id": "1tf2vC0bQp4b"
   },
   "source": [
    "# Visualización"
   ]
  },
  {
   "cell_type": "markdown",
   "metadata": {
    "colab_type": "text",
    "id": "csoQVsf-Qp4c"
   },
   "source": [
    "Encuentre una forma adecuada para exhibir el balance de las clase eliptica (E), espiral (S) e irregular (I) usando la nueva columna clase."
   ]
  },
  {
   "cell_type": "code",
   "execution_count": 5,
   "metadata": {
    "colab": {
     "base_uri": "https://localhost:8080/",
     "height": 500
    },
    "colab_type": "code",
    "id": "yWrp3yIZ9QiK",
    "outputId": "d94d515e-1b25-46a6-b9a4-5d6e5e41074e"
   },
   "outputs": [
    {
     "data": {
      "image/png": "[encoded data removed]",
      "text/plain": [
       "<Figure size 648x576 with 1 Axes>"
      ]
     },
     "metadata": {},
     "output_type": "display_data"
    }
   ],
   "source": [
    "data_count = pd.DataFrame(data['clase'].value_counts())\n",
    "data_count.columns = ['count']\n",
    "data_count.index.name = 'clase'\n",
    "data_count.reset_index(inplace=True)\n",
    "plt.figure(figsize=(9,8))\n",
    "seaborn.barplot(x='clase',\n",
    "                y='count',\n",
    "                data=data_count,\n",
    "                palette='Blues_d')\n",
    "seaborn.despine()"
   ]
  },
  {
   "cell_type": "markdown",
   "metadata": {
    "colab_type": "text",
    "id": "iExegv_mQp4c"
   },
   "source": [
    "Use histogramas y boxplots para visualizar intervalos de confianza, mediana, media, intercuartiles y *outliers* de la posición **z** y del tamaño **R** para algun tipo morfologíco."
   ]
  },
  {
   "cell_type": "code",
   "execution_count": 6,
   "metadata": {
    "colab": {
     "base_uri": "https://localhost:8080/",
     "height": 651
    },
    "colab_type": "code",
    "id": "Td095HZ5QnPs",
    "outputId": "81dc55ab-0062-4815-f983-19fd9e7cd229"
   },
   "outputs": [
    {
     "data": {
      "image/png": "[encoded data removed]",
      "text/plain": [
       "<Figure size 720x720 with 2 Axes>"
      ]
     },
     "metadata": {},
     "output_type": "display_data"
    }
   ],
   "source": [
    "ze_only = data[data['clase'] == 'E'][['z']]\n",
    "\n",
    "f, (ax_box, ax_hist) = plt.subplots(2, \n",
    "                                    figsize=(10,10),\n",
    "                                    sharex=True,\n",
    "                                    gridspec_kw= {\"height_ratios\": (0.2, 1)})\n",
    "z_mean = ze_only['z'].mean()\n",
    "z_median = ze_only['z'].median()\n",
    "\n",
    "seaborn.boxplot(ze_only['z'],\n",
    "                ax=ax_box,\n",
    "                color='mediumseagreen').set_title(\n",
    "                '\\nBoxplot y distribución para la variable z de las galaxias elípticas\\n')\n",
    "ax_box.axvline(z_mean, color='r', linestyle='--')\n",
    "\n",
    "ax_box.axvline(z_median, color='g', linestyle='-')\n",
    "\n",
    "seaborn.distplot(ze_only['z'],\n",
    "                 ax=ax_hist,\n",
    "                 color='mediumseagreen')\n",
    "ax_hist.axvline(z_mean, color='r', linestyle='--')\n",
    "ax_hist.axvline(z_median, color='g', linestyle='-')\n",
    "\n",
    "plt.legend({'mean':z_mean,'median':z_median})\n",
    "\n",
    "ax_box.set(xlabel='')\n",
    "plt.show()"
   ]
  },
  {
   "cell_type": "code",
   "execution_count": 7,
   "metadata": {
    "colab": {
     "base_uri": "https://localhost:8080/",
     "height": 651
    },
    "colab_type": "code",
    "id": "6rp1gBo6LgEo",
    "outputId": "8e499f6d-76cd-41e2-a7a1-5d61ec24dffc"
   },
   "outputs": [
    {
     "data": {
      "image/png": "[encoded data removed]",
      "text/plain": [
       "<Figure size 720x720 with 2 Axes>"
      ]
     },
     "metadata": {},
     "output_type": "display_data"
    }
   ],
   "source": [
    "Re_only = data[data['clase'] == 'E'][['R']]\n",
    "\n",
    "f, (ax_box, ax_hist) = plt.subplots(2,\n",
    "                                    figsize=(10,10),\n",
    "                                    sharex=True,\n",
    "                                    gridspec_kw= {\"height_ratios\": (0.2, 1)})\n",
    "R_mean = Re_only['R'].mean()\n",
    "R_median = Re_only['R'].median()\n",
    "\n",
    "seaborn.boxplot(Re_only['R'],\n",
    "                ax=ax_box,\n",
    "                color='royalblue').set_title(\n",
    "                '\\nBoxplot y distribución para la variable R de las galaxias elípticas\\n')\n",
    "ax_box.axvline(R_mean, color='r', linestyle='--')\n",
    "ax_box.axvline(R_median, color='b', linestyle='-')\n",
    "\n",
    "seaborn.distplot(Re_only['R'],\n",
    "                 ax=ax_hist,\n",
    "                 color='royalblue')\n",
    "ax_hist.axvline(R_mean, color='r', linestyle='--')\n",
    "ax_hist.axvline(R_median, color='b', linestyle='-')\n",
    "\n",
    "plt.legend({'mean':R_mean,'median':R_median})\n",
    "\n",
    "ax_box.set(xlabel='')\n",
    "plt.show()\n"
   ]
  },
  {
   "cell_type": "markdown",
   "metadata": {
    "colab_type": "text",
    "id": "j7eIOW10Qp4d"
   },
   "source": [
    "Mostrar si los valores de las medianas de las distribuciones de z para cada clase (E,S e I) son estadśticamente diferentes."
   ]
  },
  {
   "cell_type": "code",
   "execution_count": 8,
   "metadata": {
    "colab": {
     "base_uri": "https://localhost:8080/",
     "height": 325
    },
    "colab_type": "code",
    "id": "bLhOk9krobPy",
    "outputId": "699bcce2-f0f2-4df9-cb10-931b9a9db38e",
    "scrolled": false
   },
   "outputs": [
    {
     "data": {
      "image/png": "[encoded data removed]",
      "text/plain": [
       "<Figure size 936x288 with 1 Axes>"
      ]
     },
     "metadata": {},
     "output_type": "display_data"
    }
   ],
   "source": [
    "z_only = data[['clase','z']]\n",
    "\n",
    "fig, ax1 = plt.subplots(figsize=(13,4))\n",
    "\n",
    "seaborn.boxplot(x='z',\n",
    "                y='clase',\n",
    "                data=z_only,\n",
    "                ax=ax1,\n",
    "                palette='Blues').set_title(\n",
    "                '\\nBoxplot para la variable z de las galaxias elípticas, espirales e irregulares\\n')\n",
    "ax1.grid()\n",
    "ax1.set_axisbelow(True)\n",
    "plt.show()\n"
   ]
  },
  {
   "cell_type": "markdown",
   "metadata": {
    "colab_type": "text",
    "id": "tbER5zDWQp4d"
   },
   "source": [
    "# Valores característicos "
   ]
  },
  {
   "cell_type": "markdown",
   "metadata": {
    "colab_type": "text",
    "id": "uT3WPxgJQp4e"
   },
   "source": [
    "Mostrar los valores explícitos característicos de la distribución **z** de las galaxias elípticas, espirales, irregulares."
   ]
  },
  {
   "cell_type": "code",
   "execution_count": 9,
   "metadata": {
    "colab": {
     "base_uri": "https://localhost:8080/",
     "height": 328
    },
    "colab_type": "code",
    "id": "-25QmwhgPCg8",
    "outputId": "9e889d81-8f7c-49ee-b5ea-b40d3a19d0c2"
   },
   "outputs": [
    {
     "data": {
      "text/html": [
       "<div>\n",
       "<style scoped>\n",
       "    .dataframe tbody tr th:only-of-type {\n",
       "        vertical-align: middle;\n",
       "    }\n",
       "\n",
       "    .dataframe tbody tr th {\n",
       "        vertical-align: top;\n",
       "    }\n",
       "\n",
       "    .dataframe thead th {\n",
       "        text-align: right;\n",
       "    }\n",
       "</style>\n",
       "<table border=\"1\" class=\"dataframe\">\n",
       "  <thead>\n",
       "    <tr style=\"text-align: right;\">\n",
       "      <th></th>\n",
       "      <th>Elipticas</th>\n",
       "      <th>Espirales</th>\n",
       "      <th>Irregulares</th>\n",
       "    </tr>\n",
       "  </thead>\n",
       "  <tbody>\n",
       "    <tr>\n",
       "      <th>count</th>\n",
       "      <td>8257.000000</td>\n",
       "      <td>30046.000000</td>\n",
       "      <td>53799.000000</td>\n",
       "    </tr>\n",
       "    <tr>\n",
       "      <th>mean</th>\n",
       "      <td>0.035441</td>\n",
       "      <td>0.036080</td>\n",
       "      <td>0.036198</td>\n",
       "    </tr>\n",
       "    <tr>\n",
       "      <th>std</th>\n",
       "      <td>0.008377</td>\n",
       "      <td>0.008375</td>\n",
       "      <td>0.008473</td>\n",
       "    </tr>\n",
       "    <tr>\n",
       "      <th>min</th>\n",
       "      <td>0.020001</td>\n",
       "      <td>0.020001</td>\n",
       "      <td>0.020002</td>\n",
       "    </tr>\n",
       "    <tr>\n",
       "      <th>25%</th>\n",
       "      <td>0.028338</td>\n",
       "      <td>0.029204</td>\n",
       "      <td>0.029136</td>\n",
       "    </tr>\n",
       "    <tr>\n",
       "      <th>50%</th>\n",
       "      <td>0.035387</td>\n",
       "      <td>0.036243</td>\n",
       "      <td>0.036516</td>\n",
       "    </tr>\n",
       "    <tr>\n",
       "      <th>75%</th>\n",
       "      <td>0.042901</td>\n",
       "      <td>0.043443</td>\n",
       "      <td>0.043803</td>\n",
       "    </tr>\n",
       "    <tr>\n",
       "      <th>max</th>\n",
       "      <td>0.049999</td>\n",
       "      <td>0.049999</td>\n",
       "      <td>0.050000</td>\n",
       "    </tr>\n",
       "    <tr>\n",
       "      <th>median</th>\n",
       "      <td>0.035387</td>\n",
       "      <td>0.036243</td>\n",
       "      <td>0.036516</td>\n",
       "    </tr>\n",
       "  </tbody>\n",
       "</table>\n",
       "</div>"
      ],
      "text/plain": [
       "          Elipticas     Espirales   Irregulares\n",
       "count   8257.000000  30046.000000  53799.000000\n",
       "mean       0.035441      0.036080      0.036198\n",
       "std        0.008377      0.008375      0.008473\n",
       "min        0.020001      0.020001      0.020002\n",
       "25%        0.028338      0.029204      0.029136\n",
       "50%        0.035387      0.036243      0.036516\n",
       "75%        0.042901      0.043443      0.043803\n",
       "max        0.049999      0.049999      0.050000\n",
       "median     0.035387      0.036243      0.036516"
      ]
     },
     "execution_count": 9,
     "metadata": {},
     "output_type": "execute_result"
    }
   ],
   "source": [
    "ze_only = data[data['clase'] == 'E'][['z']]\n",
    "zs_only = data[data['clase'] == 'S'][['z']]\n",
    "zi_only = data[data['clase'] == 'I'][['z']]\n",
    "\n",
    "z_stats = ze_only.describe()\n",
    "z_stats.columns = ['Elipticas']\n",
    "\n",
    "zs_stats = zs_only.describe()['z']\n",
    "\n",
    "zi_stats = zi_only.describe()['z']\n",
    "\n",
    "z_stats['Espirales'] = zs_stats \n",
    "z_stats['Irregulares'] = zi_stats\n",
    "\n",
    "index = ['median']\n",
    "z_medians = pd.DataFrame({'Elipticas': [ze_only.median()['z']],\n",
    "                         'Espirales': [zs_only.median()['z']],\n",
    "                         'Irregulares': [zi_only.median()['z']]},\n",
    "                          index=index)\n",
    "\n",
    "z_stats.append(z_medians)"
   ]
  },
  {
   "cell_type": "markdown",
   "metadata": {},
   "source": [
    "# Distribución Normal"
   ]
  },
  {
   "cell_type": "markdown",
   "metadata": {},
   "source": [
    "- Grafique la distribución Normal variando sus estadísticos. Realice una breve descripción de los cambios que nota en estos."
   ]
  },
  {
   "cell_type": "code",
   "execution_count": 10,
   "metadata": {},
   "outputs": [
    {
     "data": {
      "image/png": "[encoded data removed]",
      "text/plain": [
       "<Figure size 1152x720 with 1 Axes>"
      ]
     },
     "metadata": {},
     "output_type": "display_data"
    }
   ],
   "source": [
    "norm_params = [(0,1), (0,4), (1,1), (1,3), (-2,2)]\n",
    "plt.figure(figsize=(16,10))\n",
    "for loc, scale in norm_params:\n",
    "    sd = scale**0.5\n",
    "    norm = sp.stats.norm(loc=loc, scale=scale)\n",
    "    x = np.linspace(loc-5*sd, loc+5*sd, 1000)\n",
    "    plt.plot(x, norm.pdf(x), label=fr\"$\\mu={loc}$, $\\sigma={scale}$\")\n",
    "\n",
    "plt.legend(loc=0)\n",
    "plt.grid()\n"
   ]
  },
  {
   "cell_type": "markdown",
   "metadata": {},
   "source": [
    "En el gráfico anterior se observan diferentes distribuciones normales con distintas medias ($\\mu$) y desviaciones estandars ($\\sigma$). Se puede ver que la variación de la media desplaza la campana sobre el eje horizontal, mientras que la desviación estandar nos indica que tan ancha o distribuida va a ser la campana, cuanto más grande el $\\sigma$ más ancha es la campana\n"
   ]
  },
  {
   "cell_type": "markdown",
   "metadata": {},
   "source": [
    "## Valores Faltantes "
   ]
  },
  {
   "cell_type": "markdown",
   "metadata": {},
   "source": [
    "Algunos valores físicos de las galaxias no pueden ser determinados. Muchas veces la alternativa al usual *NaN* es llenar la celda del valor faltante con cero o con números de valor muy grande o muy chico discordantes a los valores usuales que toma la cantidad física. \n",
    "\n",
    "Se puede optar por ignorar dicho número o remplazarlo por cero, el valor medio o eliminarlo en el caso que el dataset sea de una gran dimensión.\n",
    "\n",
    "El caso anteriormente se observa con la variable *color* donde dos de las galaxias no tienen su color determinado. \n",
    "\n",
    "- Dele solución \n",
    "- Ajuste la distribución de la variable **color** con el tamaño del bin=0.1 a una Normal usando *sns.distplot* \n",
    "- Explique que observa"
   ]
  },
  {
   "cell_type": "code",
   "execution_count": 11,
   "metadata": {},
   "outputs": [
    {
     "data": {
      "text/plain": [
       "count    92102.000000\n",
       "mean        -1.830732\n",
       "std         46.686363\n",
       "min        -13.484570\n",
       "25%         -2.510555\n",
       "50%         -1.994779\n",
       "75%         -1.606971\n",
       "max      10015.860000\n",
       "Name: color, dtype: float64"
      ]
     },
     "execution_count": 11,
     "metadata": {},
     "output_type": "execute_result"
    }
   ],
   "source": [
    "data['color'].describe()"
   ]
  },
  {
   "cell_type": "markdown",
   "metadata": {},
   "source": [
    "Se puede ver que el valor máximo dista mucho de la media y los cuartiles. Nos da una pista que puede ser que un valor faltante rellenada con un valor muy grande"
   ]
  },
  {
   "cell_type": "code",
   "execution_count": 12,
   "metadata": {},
   "outputs": [
    {
     "data": {
      "text/html": [
       "<div>\n",
       "<style scoped>\n",
       "    .dataframe tbody tr th:only-of-type {\n",
       "        vertical-align: middle;\n",
       "    }\n",
       "\n",
       "    .dataframe tbody tr th {\n",
       "        vertical-align: top;\n",
       "    }\n",
       "\n",
       "    .dataframe thead th {\n",
       "        text-align: right;\n",
       "    }\n",
       "</style>\n",
       "<table border=\"1\" class=\"dataframe\">\n",
       "  <thead>\n",
       "    <tr style=\"text-align: right;\">\n",
       "      <th></th>\n",
       "      <th>ra</th>\n",
       "      <th>dec</th>\n",
       "      <th>Mag_u</th>\n",
       "      <th>Mag_g</th>\n",
       "      <th>Mag_r</th>\n",
       "      <th>Mag_i</th>\n",
       "      <th>Mag_z</th>\n",
       "      <th>R</th>\n",
       "      <th>z</th>\n",
       "      <th>color</th>\n",
       "      <th>eliptica</th>\n",
       "      <th>espiral</th>\n",
       "      <th>irregular</th>\n",
       "      <th>clase</th>\n",
       "    </tr>\n",
       "  </thead>\n",
       "  <tbody>\n",
       "    <tr>\n",
       "      <th>4020</th>\n",
       "      <td>209.589671</td>\n",
       "      <td>-0.625217</td>\n",
       "      <td>-9999.0</td>\n",
       "      <td>-9999.0</td>\n",
       "      <td>16.85656</td>\n",
       "      <td>16.53999</td>\n",
       "      <td>-9999.0</td>\n",
       "      <td>6.973291</td>\n",
       "      <td>0.027598</td>\n",
       "      <td>10015.86</td>\n",
       "      <td>0</td>\n",
       "      <td>0</td>\n",
       "      <td>1</td>\n",
       "      <td>I</td>\n",
       "    </tr>\n",
       "    <tr>\n",
       "      <th>4021</th>\n",
       "      <td>209.589671</td>\n",
       "      <td>-0.625217</td>\n",
       "      <td>-9999.0</td>\n",
       "      <td>-9999.0</td>\n",
       "      <td>16.85656</td>\n",
       "      <td>16.53999</td>\n",
       "      <td>-9999.0</td>\n",
       "      <td>6.973291</td>\n",
       "      <td>0.027604</td>\n",
       "      <td>10015.86</td>\n",
       "      <td>0</td>\n",
       "      <td>0</td>\n",
       "      <td>1</td>\n",
       "      <td>I</td>\n",
       "    </tr>\n",
       "  </tbody>\n",
       "</table>\n",
       "</div>"
      ],
      "text/plain": [
       "              ra       dec   Mag_u   Mag_g     Mag_r     Mag_i   Mag_z  \\\n",
       "4020  209.589671 -0.625217 -9999.0 -9999.0  16.85656  16.53999 -9999.0   \n",
       "4021  209.589671 -0.625217 -9999.0 -9999.0  16.85656  16.53999 -9999.0   \n",
       "\n",
       "             R         z     color  eliptica  espiral  irregular clase  \n",
       "4020  6.973291  0.027598  10015.86         0        0          1     I  \n",
       "4021  6.973291  0.027604  10015.86         0        0          1     I  "
      ]
     },
     "execution_count": 12,
     "metadata": {},
     "output_type": "execute_result"
    }
   ],
   "source": [
    "data[data['color'] > 10]"
   ]
  },
  {
   "cell_type": "markdown",
   "metadata": {},
   "source": [
    "Vemos estas filas con valores muy grandes. Eliminamos esas filas del dataset ya que solo son 2 y el dataset es grande"
   ]
  },
  {
   "cell_type": "code",
   "execution_count": 13,
   "metadata": {},
   "outputs": [],
   "source": [
    "mask = data['color'] > 10\n",
    "data = data[~mask]"
   ]
  },
  {
   "cell_type": "code",
   "execution_count": 14,
   "metadata": {},
   "outputs": [
    {
     "data": {
      "text/plain": [
       "<matplotlib.legend.Legend at 0x7fe0d87f12e8>"
      ]
     },
     "execution_count": 14,
     "metadata": {},
     "output_type": "execute_result"
    },
    {
     "data": {
      "image/png": "[encoded data removed]",
      "text/plain": [
       "<Figure size 720x432 with 1 Axes>"
      ]
     },
     "metadata": {},
     "output_type": "display_data"
    }
   ],
   "source": [
    "plt.figure(figsize=(10,6))\n",
    "seaborn.distplot(data[\"color\"],bins=500, label=\"Color\")\n",
    "plt.xlim(-7,5)\n",
    "plt.grid()\n",
    "plt.legend(loc=0)"
   ]
  },
  {
   "cell_type": "markdown",
   "metadata": {},
   "source": [
    "La distribución del color para todas las galaxias parecen ser 2 o más distribuciones superpuestas. Vemos como es la distribución del color para las diferentes morfologías"
   ]
  },
  {
   "cell_type": "code",
   "execution_count": 15,
   "metadata": {},
   "outputs": [],
   "source": [
    "irregular = data[data[\"clase\"]==\"I\"]\n",
    "eliptic = data[data[\"clase\"]==\"E\"]\n",
    "spiral = data[data[\"clase\"]==\"S\"]"
   ]
  },
  {
   "cell_type": "code",
   "execution_count": 16,
   "metadata": {},
   "outputs": [
    {
     "data": {
      "text/plain": [
       "<matplotlib.legend.Legend at 0x7fe0d5b12f60>"
      ]
     },
     "execution_count": 16,
     "metadata": {},
     "output_type": "execute_result"
    },
    {
     "data": {
      "image/png": "[encoded data removed]",
      "text/plain": [
       "<Figure size 720x432 with 1 Axes>"
      ]
     },
     "metadata": {},
     "output_type": "display_data"
    }
   ],
   "source": [
    "plt.figure(figsize=(10,6))\n",
    "seaborn.distplot(irregular[\"color\"],bins=500, label=\"Irregular\")\n",
    "seaborn.distplot(spiral[\"color\"],bins=500, label=\"Espiral\")\n",
    "seaborn.distplot(eliptic[\"color\"],bins=500, label=\"Eliptica\")\n",
    "plt.xlim(-4,0)\n",
    "plt.legend(loc=0)"
   ]
  },
  {
   "cell_type": "markdown",
   "metadata": {},
   "source": [
    "En primer lugar, sabemos que cuanto más negativa es la variable color, más roja es la luz que llega de la galaxia. Por otro lado, conocemos que las estrellas más viejas son más rojas, mientras que las estrellas más jovenes son más azules.\n",
    "\n",
    "Teniendo en cuenta estos 2 puntos y observando el gráfico anterior, podemos decir que en general las galaxias elipticas se formaron en etapas más tempranas del universo, mientras que las espirales lo hicieron más tarde. Otra forma de explicar esta situación es mirando el polvo y gas libre en la galaxia que permite el nacimiento de nuevas estrellas. En las galaxías elipticas hay poco gas y polvo libre, ya que fue utilizado es epocas anteriores para formar estrellas y con esa poca concentracion de gas y polvo la tasa de nacimiento de nuevas estrellas es muy baja. En el lado opuesto estan las galaxias espirales, donde hay más cantidad de polvo y gas libre que permite el nacimiento de nuevas estrellas.\n",
    "\n",
    "Por otro lado en las galaxias irregulares podemos ver tanto galaxias jovenes como viejas. Este tipo de galaxias suele presentar contenido de gas y polvo suficiente para que se formen nuevas estrellas, aunque algunas no lo hacen siempre, como por ejemplo las galaxias irregulares enanas.\n"
   ]
  },
  {
   "cell_type": "code",
   "execution_count": null,
   "metadata": {},
   "outputs": [],
   "source": []
  },
  {
   "cell_type": "markdown",
   "metadata": {},
   "source": [
    "Del gráfico anterior es obvio que la distribución del color no es normal para las galaxias irregulares. Veamos que pasa para las elipticas y las espirales"
   ]
  },
  {
   "cell_type": "code",
   "execution_count": 17,
   "metadata": {},
   "outputs": [
    {
     "name": "stdout",
     "output_type": "stream",
     "text": [
      "-2.6360022177788545 0.34585388531511385\n",
      "-2.026176477041869 0.518555798174699\n"
     ]
    },
    {
     "data": {
      "image/png": "[encoded data removed]",
      "text/plain": [
       "<Figure size 1152x720 with 2 Axes>"
      ]
     },
     "metadata": {},
     "output_type": "display_data"
    }
   ],
   "source": [
    "# Fitting to a normal distribution\n",
    "paramsE = sp.stats.norm.fit(eliptic[\"color\"])\n",
    "paramsS = sp.stats.norm.fit(spiral[\"color\"])\n",
    "print(*paramsE)\n",
    "print(*paramsS)\n",
    "# Tackning samples with the fitted parameters\n",
    "norm_distE = sp.stats.norm(*paramsE)\n",
    "sampleE = norm_distE.rvs(10000)\n",
    "norm_distS = sp.stats.norm(*paramsS)\n",
    "sampleS = norm_distS.rvs(10000)\n",
    "\n",
    "fig = plt.figure(figsize=(16,10))\n",
    "plt.subplot(1,2,1)\n",
    "seaborn.distplot(sampleE,label=\"Normal Teorica\",hist=False)\n",
    "seaborn.distplot(eliptic[\"color\"], label=\"Eliptica\",bins=200)\n",
    "plt.legend(loc=0)\n",
    "\n",
    "plt.subplot(1,2,2)\n",
    "seaborn.distplot(sampleS,label=\"Normal Teorica\",hist=False)\n",
    "seaborn.distplot(spiral[\"color\"], label=\"Espiral\",bins=200)\n",
    "\n",
    "plt.legend(loc=0)\n",
    "seaborn.despine()\n"
   ]
  },
  {
   "cell_type": "markdown",
   "metadata": {},
   "source": [
    "A simple vista podemos decir que la distribución del color de las galaxias elípticas no se ajustan muy bien a la normal, pero en las espirales parace haber un mejor ajuste. Los comprobamos utilizando un test de Kolmogorov-Smirnov comparando con la distribución normal. El tests nos plantea las siguientes hipotesis:\n",
    "\n",
    "$H_0: $ La distribución es Normal\n",
    "\n",
    "$H_a: $ La distribución no es Normal"
   ]
  },
  {
   "cell_type": "code",
   "execution_count": 18,
   "metadata": {},
   "outputs": [
    {
     "name": "stdout",
     "output_type": "stream",
     "text": [
      "KstestResult(statistic=0.1581865119192125, pvalue=6.883279270101887e-180)\n",
      "KstestResult(statistic=0.06085597286641031, pvalue=4.4647706287249846e-97)\n"
     ]
    }
   ],
   "source": [
    "print(sp.stats.kstest(sp.stats.zscore(eliptic[\"color\"]),\"norm\"))\n",
    "print(sp.stats.kstest(sp.stats.zscore(spiral[\"color\"]),\"norm\"))"
   ]
  },
  {
   "cell_type": "markdown",
   "metadata": {},
   "source": [
    "Viendo que el P-Valor es mucho menor que 0.05 en ambos casos, descartamos la hipotesis nula y decimos ninguna de las distribuciones es normales"
   ]
  },
  {
   "cell_type": "markdown",
   "metadata": {},
   "source": [
    "# Probabilidad"
   ]
  },
  {
   "cell_type": "markdown",
   "metadata": {},
   "source": [
    "- Calcule la Probabilidad marginal de cada tipo morfologico y grafiquela."
   ]
  },
  {
   "cell_type": "code",
   "execution_count": 19,
   "metadata": {},
   "outputs": [
    {
     "data": {
      "text/plain": [
       "clase\n",
       "E    0.089653\n",
       "I    0.584115\n",
       "S    0.326232\n",
       "dtype: float64"
      ]
     },
     "execution_count": 19,
     "metadata": {},
     "output_type": "execute_result"
    }
   ],
   "source": [
    "marginal_probs = data.groupby('clase').size().div(len(data))\n",
    "marginal_probs\n",
    "\n"
   ]
  },
  {
   "cell_type": "code",
   "execution_count": 20,
   "metadata": {},
   "outputs": [
    {
     "data": {
      "text/html": [
       "<div>\n",
       "<style scoped>\n",
       "    .dataframe tbody tr th:only-of-type {\n",
       "        vertical-align: middle;\n",
       "    }\n",
       "\n",
       "    .dataframe tbody tr th {\n",
       "        vertical-align: top;\n",
       "    }\n",
       "\n",
       "    .dataframe thead th {\n",
       "        text-align: right;\n",
       "    }\n",
       "</style>\n",
       "<table border=\"1\" class=\"dataframe\">\n",
       "  <thead>\n",
       "    <tr style=\"text-align: right;\">\n",
       "      <th></th>\n",
       "      <th>clase</th>\n",
       "      <th>0</th>\n",
       "    </tr>\n",
       "  </thead>\n",
       "  <tbody>\n",
       "    <tr>\n",
       "      <th>0</th>\n",
       "      <td>E</td>\n",
       "      <td>0.089653</td>\n",
       "    </tr>\n",
       "    <tr>\n",
       "      <th>1</th>\n",
       "      <td>I</td>\n",
       "      <td>0.584115</td>\n",
       "    </tr>\n",
       "    <tr>\n",
       "      <th>2</th>\n",
       "      <td>S</td>\n",
       "      <td>0.326232</td>\n",
       "    </tr>\n",
       "  </tbody>\n",
       "</table>\n",
       "</div>"
      ],
      "text/plain": [
       "  clase         0\n",
       "0     E  0.089653\n",
       "1     I  0.584115\n",
       "2     S  0.326232"
      ]
     },
     "execution_count": 20,
     "metadata": {},
     "output_type": "execute_result"
    }
   ],
   "source": [
    "marginal_probs.to_frame().reset_index()"
   ]
  },
  {
   "cell_type": "code",
   "execution_count": 21,
   "metadata": {},
   "outputs": [],
   "source": [
    "marg_prob_df = marginal_probs.to_frame().reset_index()"
   ]
  },
  {
   "cell_type": "code",
   "execution_count": 22,
   "metadata": {},
   "outputs": [
    {
     "data": {
      "text/plain": [
       "<matplotlib.axes._subplots.AxesSubplot at 0x7fe0d4d390f0>"
      ]
     },
     "execution_count": 22,
     "metadata": {},
     "output_type": "execute_result"
    },
    {
     "data": {
      "image/png": "[encoded data removed]",
      "text/plain": [
       "<Figure size 432x288 with 1 Axes>"
      ]
     },
     "metadata": {},
     "output_type": "display_data"
    }
   ],
   "source": [
    "marg_prob_df.plot(x=\"clase\", kind='bar', stacked=True,)\n",
    "#marginal_probs"
   ]
  },
  {
   "cell_type": "markdown",
   "metadata": {},
   "source": [
    "- Calcule la probabilida conjunta las galaxias de clase = E con el color  mayor a -2.1"
   ]
  },
  {
   "cell_type": "markdown",
   "metadata": {},
   "source": [
    "El teorema de Bayes establece que:\n",
    "\n",
    "$P(A/B) = \\frac{P(A \\cap B)}{P(B)}$\n",
    "\n",
    "Donde:\n",
    "  * $P(A/B)$ es la probabilidad condicional\n",
    "  * $P(A \\cap B)$ es la probabilidad conjunta\n",
    "  \n",
    "Podemos despejar la probabilidad conjunta de la siguiente forma:\n",
    "\n",
    "$P(A \\cap B) = P(A/B) \\times P(B) = P(B/A) \\times P(A)$\n",
    "\n",
    "Para nuestro caso decimos que:\n",
    "  * A = probabilidad de que sea elíptica\n",
    "  * B = probabilidad de que el color sea mayor a 1\n",
    "\n"
   ]
  },
  {
   "cell_type": "code",
   "execution_count": 41,
   "metadata": {},
   "outputs": [
    {
     "name": "stdout",
     "output_type": "stream",
     "text": [
      "La porbabilidad conjunta es:  0.0019888616560623687\n"
     ]
    }
   ],
   "source": [
    "p_b    = data[(data[\"color\"]>-2.1)].shape[0] / len(data)\n",
    "p_cond = data[(data[\"clase\"]==\"E\") & (data[\"color\"]>-2.1)].shape[0] / len(data)\n",
    "p_conj = p_cond * p_b\n",
    "print(\"La porbabilidad conjunta es: \", p_conj)"
   ]
  },
  {
   "cell_type": "markdown",
   "metadata": {},
   "source": [
    "Esta probabilidad nos indica que solo una muy pequeña porción de las galaxias elíptica tiene un color mayor a -2,1. Discho de otra forma, si el color es mayor a -2,1 es muy poco probable que la galaxia sea elíptica"
   ]
  },
  {
   "cell_type": "code",
   "execution_count": null,
   "metadata": {},
   "outputs": [],
   "source": []
  },
  {
   "cell_type": "code",
   "execution_count": null,
   "metadata": {},
   "outputs": [],
   "source": []
  },
  {
   "cell_type": "code",
   "execution_count": null,
   "metadata": {},
   "outputs": [],
   "source": []
  },
  {
   "cell_type": "markdown",
   "metadata": {},
   "source": [
    "- Analice la correlación entre dos de las variables a través de chi-cuadrado. Muestre esta correlación a través de mapas de calor."
   ]
  },
  {
   "cell_type": "markdown",
   "metadata": {},
   "source": [
    "La correlación utilizando Chi Cuadrado aplica a variables categóricas. Como solo tenemos 1 variable categórica (la clase/morofología de la galaxia) creeamos otro que es el nombre del color, que puede tomar valores \"rojo\" o \"azul\" de acuerdo al valor de la variable color"
   ]
  },
  {
   "cell_type": "code",
   "execution_count": 25,
   "metadata": {},
   "outputs": [],
   "source": [
    "data[\"color_name\"] = data[\"color\"].apply(lambda row: \"red\" if row <-2.3 else \"blue\")"
   ]
  },
  {
   "cell_type": "markdown",
   "metadata": {},
   "source": [
    "Armamos la tabla de contigencia"
   ]
  },
  {
   "cell_type": "code",
   "execution_count": 26,
   "metadata": {},
   "outputs": [
    {
     "data": {
      "text/html": [
       "<div>\n",
       "<style scoped>\n",
       "    .dataframe tbody tr th:only-of-type {\n",
       "        vertical-align: middle;\n",
       "    }\n",
       "\n",
       "    .dataframe tbody tr th {\n",
       "        vertical-align: top;\n",
       "    }\n",
       "\n",
       "    .dataframe thead th {\n",
       "        text-align: right;\n",
       "    }\n",
       "</style>\n",
       "<table border=\"1\" class=\"dataframe\">\n",
       "  <thead>\n",
       "    <tr style=\"text-align: right;\">\n",
       "      <th>color_name</th>\n",
       "      <th>blue</th>\n",
       "      <th>red</th>\n",
       "    </tr>\n",
       "    <tr>\n",
       "      <th>clase</th>\n",
       "      <th></th>\n",
       "      <th></th>\n",
       "    </tr>\n",
       "  </thead>\n",
       "  <tbody>\n",
       "    <tr>\n",
       "      <th>E</th>\n",
       "      <td>656</td>\n",
       "      <td>7601</td>\n",
       "    </tr>\n",
       "    <tr>\n",
       "      <th>I</th>\n",
       "      <td>35967</td>\n",
       "      <td>17830</td>\n",
       "    </tr>\n",
       "    <tr>\n",
       "      <th>S</th>\n",
       "      <td>21860</td>\n",
       "      <td>8186</td>\n",
       "    </tr>\n",
       "  </tbody>\n",
       "</table>\n",
       "</div>"
      ],
      "text/plain": [
       "color_name   blue    red\n",
       "clase                   \n",
       "E             656   7601\n",
       "I           35967  17830\n",
       "S           21860   8186"
      ]
     },
     "execution_count": 26,
     "metadata": {},
     "output_type": "execute_result"
    }
   ],
   "source": [
    "conting_table = pd.crosstab(data[\"clase\"], data[\"color_name\"])\n",
    "conting_table"
   ]
  },
  {
   "cell_type": "markdown",
   "metadata": {},
   "source": [
    "Calculamos el chi cuadrado para ver la independecia de las variables. Este tets plantea las siguientes 2 hipotesis:\n",
    "\n",
    "$H_0: $ Las variables son independientes\n",
    "\n",
    "$H_a: $ Las variables son dependientes"
   ]
  },
  {
   "cell_type": "code",
   "execution_count": 27,
   "metadata": {},
   "outputs": [],
   "source": [
    "stat, pval, dfree, exptab = sp.stats.chi2_contingency(conting_table)"
   ]
  },
  {
   "cell_type": "code",
   "execution_count": 28,
   "metadata": {},
   "outputs": [
    {
     "name": "stdout",
     "output_type": "stream",
     "text": [
      "Estadistico: 12367.148144152534\n",
      "P-Valor: 0.0\n",
      "Grados de Libertad: 2\n",
      "Tabla Esperada: \n",
      " [[ 5243.15017372  3013.84982628]\n",
      " [34160.80294245 19636.19705755]\n",
      " [19079.04688382 10966.95311618]]\n"
     ]
    }
   ],
   "source": [
    "print(f\"Estadistico: {stat}\")\n",
    "print(f\"P-Valor: {pval}\")\n",
    "print(f\"Grados de Libertad: {dfree}\")\n",
    "print(f\"Tabla Esperada: \\n {exptab}\")\n"
   ]
  },
  {
   "cell_type": "markdown",
   "metadata": {},
   "source": [
    "Como el P-Valor es 0, podemos rechazar la hipotesis nula y decimos que las variables son dependientes. Esto es algo esperado, ya que como vimos anteriormente existe una dependencia entre la morfología de la galaxias y el color predominante"
   ]
  },
  {
   "cell_type": "markdown",
   "metadata": {},
   "source": [
    "## Mapa de Calor"
   ]
  },
  {
   "cell_type": "code",
   "execution_count": 29,
   "metadata": {},
   "outputs": [
    {
     "data": {
      "text/plain": [
       "<matplotlib.axes._subplots.AxesSubplot at 0x7fe0d4fec2b0>"
      ]
     },
     "execution_count": 29,
     "metadata": {},
     "output_type": "execute_result"
    },
    {
     "data": {
      "image/png": "[encoded data removed]",
      "text/plain": [
       "<Figure size 432x288 with 2 Axes>"
      ]
     },
     "metadata": {},
     "output_type": "display_data"
    }
   ],
   "source": [
    "seaborn.heatmap(conting_table,annot=True,cmap=\"Greens\")"
   ]
  },
  {
   "cell_type": "markdown",
   "metadata": {},
   "source": [
    "Un buen recurzo para mostrar los resultados de correlaciones suele ser el mapa de calor, pero en este caso resulta engañoso ya que a primera vista nos muestra que existe una correlación debil entre las galaxias elipicas y espirales con los colores de las mismas. Esto se debe a que la probabilidad marginal de ese tipo de galaxias es bajo respecto a las irregulares, que es donde parece haber mayor correlación. Para corregir esto balanceamos las muestras por galaxia"
   ]
  },
  {
   "cell_type": "code",
   "execution_count": 30,
   "metadata": {},
   "outputs": [
    {
     "data": {
      "text/html": [
       "<div>\n",
       "<style scoped>\n",
       "    .dataframe tbody tr th:only-of-type {\n",
       "        vertical-align: middle;\n",
       "    }\n",
       "\n",
       "    .dataframe tbody tr th {\n",
       "        vertical-align: top;\n",
       "    }\n",
       "\n",
       "    .dataframe thead th {\n",
       "        text-align: right;\n",
       "    }\n",
       "</style>\n",
       "<table border=\"1\" class=\"dataframe\">\n",
       "  <thead>\n",
       "    <tr style=\"text-align: right;\">\n",
       "      <th>color_name</th>\n",
       "      <th>blue</th>\n",
       "      <th>red</th>\n",
       "    </tr>\n",
       "    <tr>\n",
       "      <th>clase</th>\n",
       "      <th></th>\n",
       "      <th></th>\n",
       "    </tr>\n",
       "  </thead>\n",
       "  <tbody>\n",
       "    <tr>\n",
       "      <th>E</th>\n",
       "      <td>0.079448</td>\n",
       "      <td>0.920552</td>\n",
       "    </tr>\n",
       "    <tr>\n",
       "      <th>I</th>\n",
       "      <td>0.668569</td>\n",
       "      <td>0.331431</td>\n",
       "    </tr>\n",
       "    <tr>\n",
       "      <th>S</th>\n",
       "      <td>0.727551</td>\n",
       "      <td>0.272449</td>\n",
       "    </tr>\n",
       "  </tbody>\n",
       "</table>\n",
       "</div>"
      ],
      "text/plain": [
       "color_name      blue       red\n",
       "clase                         \n",
       "E           0.079448  0.920552\n",
       "I           0.668569  0.331431\n",
       "S           0.727551  0.272449"
      ]
     },
     "execution_count": 30,
     "metadata": {},
     "output_type": "execute_result"
    }
   ],
   "source": [
    "conting_table_norm = conting_table.div(conting_table.sum(axis=1), axis=0)\n",
    "conting_table_norm"
   ]
  },
  {
   "cell_type": "code",
   "execution_count": 31,
   "metadata": {},
   "outputs": [
    {
     "data": {
      "text/plain": [
       "<matplotlib.axes._subplots.AxesSubplot at 0x7fe0d4427c18>"
      ]
     },
     "execution_count": 31,
     "metadata": {},
     "output_type": "execute_result"
    },
    {
     "data": {
      "image/png": "[encoded data removed]",
      "text/plain": [
       "<Figure size 432x288 with 2 Axes>"
      ]
     },
     "metadata": {},
     "output_type": "display_data"
    }
   ],
   "source": [
    "seaborn.heatmap(conting_table_norm,annot=True,cmap=\"Greens\")"
   ]
  },
  {
   "cell_type": "markdown",
   "metadata": {},
   "source": [
    "De esta forma la situación mejora norotramiente, y el gráfico muestra el resultado correctamente"
   ]
  },
  {
   "cell_type": "code",
   "execution_count": null,
   "metadata": {},
   "outputs": [],
   "source": []
  }
 ],
 "metadata": {
  "colab": {
   "collapsed_sections": [
    "3mNS0irgQp4I",
    "xiDaix5iQp4K",
    "V-vsM3mrQp4O",
    "0RPGMqrxQp4X",
    "1tf2vC0bQp4b",
    "tbER5zDWQp4d",
    "5Cel1YP_Qp4f"
   ],
   "name": "Análisis _y _vizualización _de _Datos .ipynb",
   "provenance": [],
   "version": "0.3.2"
  },
  "kernelspec": {
   "display_name": "Python 3",
   "language": "python",
   "name": "python3"
  },
  "language_info": {
   "codemirror_mode": {
    "name": "ipython",
    "version": 3
   },
   "file_extension": ".py",
   "mimetype": "text/x-python",
   "name": "python",
   "nbconvert_exporter": "python",
   "pygments_lexer": "ipython3",
   "version": "3.6.8"
  }
 },
 "nbformat": 4,
 "nbformat_minor": 1
}
